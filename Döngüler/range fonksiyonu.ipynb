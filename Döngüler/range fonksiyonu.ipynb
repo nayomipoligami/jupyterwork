{
 "cells": [
  {
   "cell_type": "code",
   "execution_count": 1,
   "metadata": {},
   "outputs": [
    {
     "data": {
      "text/plain": [
       "range(0, 20)"
      ]
     },
     "execution_count": 1,
     "metadata": {},
     "output_type": "execute_result"
    }
   ],
   "source": [
    "range(0,20)"
   ]
  },
  {
   "cell_type": "code",
   "execution_count": 2,
   "metadata": {},
   "outputs": [
    {
     "name": "stdout",
     "output_type": "stream",
     "text": [
      "0 1 2 3 4 5 6 7 8 9 10 11 12 13 14 15 16 17 18 19\n"
     ]
    }
   ],
   "source": [
    "print(*range(0,20))"
   ]
  },
  {
   "cell_type": "code",
   "execution_count": 3,
   "metadata": {},
   "outputs": [
    {
     "name": "stdout",
     "output_type": "stream",
     "text": [
      "range(0, 20)\n"
     ]
    }
   ],
   "source": [
    "print(range(0,20)) #böyle kullanılmıyor...."
   ]
  },
  {
   "cell_type": "code",
   "execution_count": 4,
   "metadata": {},
   "outputs": [
    {
     "name": "stdout",
     "output_type": "stream",
     "text": [
      "0 1 2 3 4 5 6 7 8 9 10 11 12 13 14 15 16 17 18 19 20 21 22 23 24 25 26 27 28 29 30 31 32 33 34 35 36 37 38 39 40 41 42 43 44 45 46 47 48 49 50 51 52 53 54 55 56 57 58 59 60 61 62 63 64 65 66 67 68 69 70 71 72 73 74 75 76 77 78 79 80 81 82 83 84 85 86 87 88 89 90 91 92 93 94 95 96 97 98 99\n"
     ]
    }
   ],
   "source": [
    "print(*range(0,100))"
   ]
  },
  {
   "cell_type": "code",
   "execution_count": 5,
   "metadata": {},
   "outputs": [
    {
     "name": "stdout",
     "output_type": "stream",
     "text": [
      "0 1 2 3 4 5 6 7 8 9 10 11 12 13 14 15 16 17 18 19\n"
     ]
    }
   ],
   "source": [
    "print(*range(0,20))"
   ]
  },
  {
   "cell_type": "code",
   "execution_count": 6,
   "metadata": {},
   "outputs": [
    {
     "name": "stdout",
     "output_type": "stream",
     "text": [
      "0 1 2 3 4 5 6 7 8 9 10 11 12 13 14\n"
     ]
    }
   ],
   "source": [
    "print(*range(15))"
   ]
  },
  {
   "cell_type": "code",
   "execution_count": 10,
   "metadata": {},
   "outputs": [
    {
     "name": "stdout",
     "output_type": "stream",
     "text": [
      "0 2 4 6 8 10 12 14 16 18 20 22 24 26 28 30 32 34 36 38 40 42 44 46 48 50 52 54 56 58 60 62 64 66 68 70 72 74 76 78 80 82 84 86 88 90 92 94 96 98\n"
     ]
    }
   ],
   "source": [
    "print(*range(0,100,2))"
   ]
  },
  {
   "cell_type": "code",
   "execution_count": 11,
   "metadata": {},
   "outputs": [
    {
     "name": "stdout",
     "output_type": "stream",
     "text": [
      "5 10 15 20 25 30 35 40 45 50 55 60 65 70 75 80 85 90 95\n"
     ]
    }
   ],
   "source": [
    "print(*range(5,100,5))"
   ]
  },
  {
   "cell_type": "code",
   "execution_count": 14,
   "metadata": {},
   "outputs": [
    {
     "name": "stdout",
     "output_type": "stream",
     "text": [
      "\n"
     ]
    }
   ],
   "source": [
    "print(*range(20,0))#böyle de kullanılmıyor..."
   ]
  },
  {
   "cell_type": "code",
   "execution_count": 16,
   "metadata": {},
   "outputs": [
    {
     "name": "stdout",
     "output_type": "stream",
     "text": [
      "20 19 18 17 16 15 14 13 12 11 10 9 8 7 6 5 4 3 2 1\n"
     ]
    }
   ],
   "source": [
    "print(*range(20,0,-1))#böyle yaptıgımızda 20 den sıfıra tersten git anlamına geliyor..."
   ]
  },
  {
   "cell_type": "code",
   "execution_count": 17,
   "metadata": {},
   "outputs": [
    {
     "name": "stdout",
     "output_type": "stream",
     "text": [
      "1\n",
      "2\n",
      "3\n",
      "4\n",
      "5\n"
     ]
    }
   ],
   "source": [
    "lists=[1,2,3,4,5]\n",
    "for i in lists:\n",
    "    print(i)"
   ]
  },
  {
   "cell_type": "code",
   "execution_count": 2,
   "metadata": {},
   "outputs": [
    {
     "name": "stdout",
     "output_type": "stream",
     "text": [
      "i \n",
      "i i \n",
      "i i i \n",
      "i i i i \n",
      "i i i i i \n",
      "i i i i i i \n",
      "i i i i i i i \n",
      "i i i i i i i i \n",
      "i i i i i i i i i \n"
     ]
    }
   ],
   "source": [
    "for i in range(1,10):#böyle kullandıgımızda yukaridaki liste gibi davranıp sayıları bastırcak \n",
    "    print(\"i \"*i)"
   ]
  },
  {
   "cell_type": "code",
   "execution_count": 4,
   "metadata": {},
   "outputs": [
    {
     "name": "stdout",
     "output_type": "stream",
     "text": [
      "*  \n",
      "*  *  \n",
      "*  *  *  \n",
      "*  *  *  *  \n",
      "*  *  *  *  *  \n",
      "*  *  *  *  *  *  \n",
      "*  *  *  *  *  *  *  \n",
      "*  *  *  *  *  *  *  *  \n",
      "*  *  *  *  *  *  *  *  *  \n",
      "*  *  *  *  *  *  *  *  *  *  \n",
      "*  *  *  *  *  *  *  *  *  *  *  \n",
      "*  *  *  *  *  *  *  *  *  *  *  *  \n",
      "*  *  *  *  *  *  *  *  *  *  *  *  *  \n",
      "*  *  *  *  *  *  *  *  *  *  *  *  *  *  \n",
      "*  *  *  *  *  *  *  *  *  *  *  *  *  *  *  \n",
      "*  *  *  *  *  *  *  *  *  *  *  *  *  *  *  *  \n",
      "*  *  *  *  *  *  *  *  *  *  *  *  *  *  *  *  *  \n",
      "*  *  *  *  *  *  *  *  *  *  *  *  *  *  *  *  *  *  \n",
      "*  *  *  *  *  *  *  *  *  *  *  *  *  *  *  *  *  *  *  \n"
     ]
    }
   ],
   "source": [
    "for i in range (1,20):\n",
    "    print(\"*  \"*i)"
   ]
  },
  {
   "cell_type": "code",
   "execution_count": 24,
   "metadata": {},
   "outputs": [
    {
     "name": "stdout",
     "output_type": "stream",
     "text": [
      "           *\n",
      "          ***\n",
      "         *****\n",
      "        *******\n",
      "       *********\n",
      "      ***********\n",
      "     *************\n",
      "    ***************\n",
      "   *****************\n",
      "  *******************\n",
      "  *******************  \n",
      "   *****************   \n",
      "    ***************    \n",
      "     *************     \n",
      "      ***********      \n",
      "       *********       \n",
      "        *******        \n",
      "         *****         \n",
      "          ***          \n",
      "           *           \n",
      "Bitti\n"
     ]
    }
   ],
   "source": [
    "k = 1\n",
    "j = 21\n",
    "i = 0\n",
    "c = 0\n",
    " \n",
    "while c <= 2:\n",
    "    c += 1\n",
    " \n",
    "    if c == 1:\n",
    "      for i in range(10,0,-1):\n",
    "        if i < j:\n",
    "            print(\" \" * i,\"*\" * k)\n",
    "            k += 2\n",
    "        else:\n",
    "            print(\"*\")\n",
    "      k = 19\n",
    " \n",
    "    elif c == 2:\n",
    "        for i in range(1,11):\n",
    "            print(\" \" * i,\"*\" * k,\" \" * i)\n",
    "            i += 1\n",
    "            k -= 2\n",
    " \n",
    " \n",
    " \n",
    "print(\"Bitti\")"
   ]
  },
  {
   "cell_type": "code",
   "execution_count": 25,
   "metadata": {},
   "outputs": [
    {
     "name": "stdout",
     "output_type": "stream",
     "text": [
      "                     *\n",
      "                    ***\n",
      "                   *****\n",
      "                  *******\n",
      "                 *********\n",
      "                ***********\n",
      "               *************\n",
      "              ***************\n",
      "             *****************\n",
      "            *******************\n",
      "           *********************\n",
      "          ***********************\n",
      "           *********************\n",
      "            *******************\n",
      "             *****************\n",
      "              ***************\n",
      "               *************\n",
      "                ***********\n",
      "                 *********\n",
      "                  *******\n",
      "                   *****\n",
      "                    ***\n",
      "                     *\n"
     ]
    }
   ],
   "source": [
    "x = 20\n",
    "y = 1\n",
    "i = 0\n",
    "for i in range(0,23):\n",
    "    if i <=10:\n",
    "        print(\" \" * x, \"*\" * y )\n",
    "        x = x-1\n",
    "        y = y + 2\n",
    "    elif i >= 10:\n",
    "        print(\" \" * x, \"*\" * y)\n",
    "        x = x + 1\n",
    "        y = y - 2"
   ]
  },
  {
   "cell_type": "code",
   "execution_count": 26,
   "metadata": {},
   "outputs": [
    {
     "name": "stdout",
     "output_type": "stream",
     "text": [
      "          *\n",
      "         **\n",
      "        ***\n",
      "       ****\n",
      "      *****\n",
      "     ******\n",
      "    *******\n",
      "   ********\n",
      "  *********\n",
      " **********\n"
     ]
    }
   ],
   "source": [
    "a=1\n",
    "b=9\n",
    " \n",
    "for i in range(0,10):\n",
    "    print(\" \"*b,\"*\"*a)\n",
    " \n",
    "    a+=1\n",
    "    b-=1"
   ]
  },
  {
   "cell_type": "code",
   "execution_count": 6,
   "metadata": {},
   "outputs": [
    {
     "name": "stdout",
     "output_type": "stream",
     "text": [
      "\n",
      "*\n",
      "**\n",
      "***\n",
      "****\n",
      "*****\n",
      "******\n",
      "*******\n",
      "********\n",
      "*********\n"
     ]
    }
   ],
   "source": [
    "for i in range(0,10):\n",
    "    print(\"*\"*i)\n",
    "    \n"
   ]
  },
  {
   "cell_type": "code",
   "execution_count": 11,
   "metadata": {},
   "outputs": [
    {
     "name": "stdout",
     "output_type": "stream",
     "text": [
      "\n",
      "//\\\n",
      "//\\//\\\n",
      "//\\//\\//\\\n",
      "//\\//\\//\\//\\\n",
      "//\\//\\//\\//\\//\\\n",
      "//\\//\\//\\//\\//\\//\\\n",
      "//\\//\\//\\//\\//\\//\\//\\\n",
      "//\\//\\//\\//\\//\\//\\//\\//\\\n",
      "//\\//\\//\\//\\//\\//\\//\\//\\//\\\n",
      "//\\//\\//\\//\\//\\//\\//\\//\\//\\//\\\n",
      "//\\//\\//\\//\\//\\//\\//\\//\\//\\//\\//\\\n",
      "//\\//\\//\\//\\//\\//\\//\\//\\//\\//\\//\\//\\\n",
      "//\\//\\//\\//\\//\\//\\//\\//\\//\\//\\//\\//\\//\\\n",
      "//\\//\\//\\//\\//\\//\\//\\//\\//\\//\\//\\//\\//\\//\\\n",
      "//\\//\\//\\//\\//\\//\\//\\//\\//\\//\\//\\//\\//\\//\\//\\\n",
      "//\\//\\//\\//\\//\\//\\//\\//\\//\\//\\//\\//\\//\\//\\//\\//\\\n",
      "//\\//\\//\\//\\//\\//\\//\\//\\//\\//\\//\\//\\//\\//\\//\\//\\//\\\n",
      "//\\//\\//\\//\\//\\//\\//\\//\\//\\//\\//\\//\\//\\//\\//\\//\\//\\//\\\n",
      "//\\//\\//\\//\\//\\//\\//\\//\\//\\//\\//\\//\\//\\//\\//\\//\\//\\//\\//\\\n"
     ]
    }
   ],
   "source": [
    "for x in range(20):\n",
    "    print(\"//\\\\\" * x) "
   ]
  },
  {
   "cell_type": "code",
   "execution_count": 5,
   "metadata": {},
   "outputs": [
    {
     "name": "stdout",
     "output_type": "stream",
     "text": [
      "                     *\n",
      "                    ***\n",
      "                   *****\n",
      "                  *******\n",
      "                 *********\n",
      "                ***********\n",
      "               *************\n",
      "              ***************\n",
      "             *****************\n",
      "            *******************\n",
      "           *********************\n",
      "          ***********************\n",
      "           *********************\n",
      "            *******************\n",
      "             *****************\n",
      "              ***************\n",
      "               *************\n",
      "                ***********\n",
      "                 *********\n",
      "                  *******\n",
      "                   *****\n",
      "                    ***\n",
      "                     *\n"
     ]
    }
   ],
   "source": [
    "x = 20\n",
    "y = 1\n",
    "i = 0\n",
    "for i in range(0,23):\n",
    "    if i <=10:\n",
    "        print(\" \" * x, \"*\" * y )\n",
    "        x = x-1\n",
    "        y = y + 2\n",
    "    elif i >= 10:\n",
    "        print(\" \" * x, \"*\" * y)\n",
    "        x = x + 1\n",
    "        y = y - 2\n",
    "    \n",
    "    "
   ]
  },
  {
   "cell_type": "code",
   "execution_count": 7,
   "metadata": {},
   "outputs": [
    {
     "ename": "SyntaxError",
     "evalue": "invalid syntax (<ipython-input-7-e1642de3fcac>, line 15)",
     "output_type": "error",
     "traceback": [
      "\u001b[1;36m  File \u001b[1;32m\"<ipython-input-7-e1642de3fcac>\"\u001b[1;36m, line \u001b[1;32m15\u001b[0m\n\u001b[1;33m    y = y -; 2\u001b[0m\n\u001b[1;37m           ^\u001b[0m\n\u001b[1;31mSyntaxError\u001b[0m\u001b[1;31m:\u001b[0m invalid syntax\n"
     ]
    }
   ],
   "source": [
    "x = 20\n",
    "y = 1\n",
    "i = 0\n",
    "for i in range(0,23):\n",
    "    if i <=10:\n",
    "        print(\" \" * x, \"*\" * y )\n",
    "        x-=1\n",
    "        y = y + 2\n",
    "        \n",
    "a=10       \n",
    "for a in range(0,23):\n",
    "    if a >=10:\n",
    "        print(\" \" * x, \"*\" * y )\n",
    "        x+=1\n",
    "        y = y -; 2        \n",
    "        \n",
    "        "
   ]
  },
  {
   "cell_type": "code",
   "execution_count": 9,
   "metadata": {},
   "outputs": [
    {
     "name": "stdout",
     "output_type": "stream",
     "text": [
      "20\n",
      "$\n",
      "$ $\n",
      "$ $ $\n",
      "$ $ $ $\n",
      "$ $ $ $ $\n",
      "$ $ $ $ $ $\n",
      "$ $ $ $ $ $ $\n",
      "$ $ $ $ $ $ $ $\n",
      "$ $ $ $ $ $ $ $ $\n",
      "$ $ $ $ $ $ $ $ $ $\n",
      "$ $ $ $ $ $ $ $ $ $ $\n",
      "$ $ $ $ $ $ $ $ $ $ $ $\n",
      "$ $ $ $ $ $ $ $ $ $ $ $ $\n",
      "$ $ $ $ $ $ $ $ $ $ $ $ $ $\n",
      "$ $ $ $ $ $ $ $ $ $ $ $ $ $ $\n",
      "$ $ $ $ $ $ $ $ $ $ $ $ $ $ $ $\n",
      "$ $ $ $ $ $ $ $ $ $ $ $ $ $ $ $ $\n",
      "$ $ $ $ $ $ $ $ $ $ $ $ $ $ $ $ $ $\n",
      "$ $ $ $ $ $ $ $ $ $ $ $ $ $ $ $ $ $ $\n",
      "$ $ $ $ $ $ $ $ $ $ $ $ $ $ $ $ $ $ $ $\n"
     ]
    }
   ],
   "source": [
    "count = int(input())\n",
    "\n",
    "for i in range(count):\n",
    "    print(\"$\", end=\"\")\n",
    "    for j in range(i):\n",
    "        print(\" $\", end=\"\")\n",
    "    print()"
   ]
  },
  {
   "cell_type": "code",
   "execution_count": 12,
   "metadata": {},
   "outputs": [
    {
     "name": "stdout",
     "output_type": "stream",
     "text": [
      "5\n",
      "* * * * *\n",
      "* * * * *\n",
      "* * * * *\n",
      "* * * * *\n",
      "* * * * *\n"
     ]
    }
   ],
   "source": [
    "count = int(input())\n",
    "\n",
    "for i in range(count):\n",
    "    print(\"*\", end=\"\")\n",
    "    for j in range(count - 1):\n",
    "        print(\" *\", end=\"\")\n",
    "    print()"
   ]
  },
  {
   "cell_type": "code",
   "execution_count": 15,
   "metadata": {},
   "outputs": [
    {
     "name": "stdout",
     "output_type": "stream",
     "text": [
      "5\n",
      "*****\n",
      "*****\n",
      "*****\n",
      "*****\n",
      "*****\n"
     ]
    }
   ],
   "source": [
    "count = int(input())\n",
    "\n",
    "for i in range(count):\n",
    "    print(\"*\" * count)"
   ]
  },
  {
   "cell_type": "code",
   "execution_count": 19,
   "metadata": {},
   "outputs": [
    {
     "name": "stdout",
     "output_type": "stream",
     "text": [
      "8\n",
      "         | \n",
      "       * | *\n",
      "      ** | **\n",
      "     *** | ***\n",
      "    **** | ****\n",
      "   ***** | *****\n",
      "  ****** | ******\n",
      " ******* | *******\n",
      "******** | ********\n"
     ]
    }
   ],
   "source": [
    "count = int(input())\n",
    "\n",
    "for i in range(count + 1):\n",
    "    print(f\"{' ' * (count - i)}{'*' * i} | {'*' * i}\")"
   ]
  },
  {
   "cell_type": "code",
   "execution_count": 21,
   "metadata": {},
   "outputs": [
    {
     "name": "stdout",
     "output_type": "stream",
     "text": [
      "12\n",
      "************************            ************************\n",
      "*//////////////////////*            *//////////////////////*\n",
      "*//////////////////////*            *//////////////////////*\n",
      "*//////////////////////*            *//////////////////////*\n",
      "*//////////////////////*            *//////////////////////*\n",
      "*//////////////////////*||||||||||||*//////////////////////*\n",
      "*//////////////////////*            *//////////////////////*\n",
      "*//////////////////////*            *//////////////////////*\n",
      "*//////////////////////*            *//////////////////////*\n",
      "*//////////////////////*            *//////////////////////*\n",
      "*//////////////////////*            *//////////////////////*\n",
      "************************            ************************\n"
     ]
    }
   ],
   "source": [
    "count = int(input())\n",
    "\n",
    "print(f\"{'*' * (count * 2)}{' ' * count}{'*' * (count * 2)}\")\n",
    "\n",
    "for i in range(count - 2):\n",
    "    if i == (count - 1) // 2 - 1 :\n",
    "        print(f\"*{'/' * (count * 2 - 2)}*{'|' * count}*{'/' * (count * 2 - 2)}*\")\n",
    "    else:\n",
    "        print(f\"*{'/' * (count * 2 - 2)}*{' ' * count}*{'/' * (count * 2 - 2)}*\")\n",
    "\n",
    "print(f\"{'*' * (count * 2)}{' ' * count}{'*' * (count * 2)}\")"
   ]
  },
  {
   "cell_type": "code",
   "execution_count": 23,
   "metadata": {},
   "outputs": [
    {
     "name": "stdout",
     "output_type": "stream",
     "text": [
      "15\n",
      "-------*-------\n",
      "------***------\n",
      "-----*****-----\n",
      "----*******----\n",
      "---*********---\n",
      "--***********--\n",
      "-*************-\n",
      "***************\n",
      "|*************|\n",
      "|*************|\n",
      "|*************|\n",
      "|*************|\n",
      "|*************|\n",
      "|*************|\n",
      "|*************|\n"
     ]
    }
   ],
   "source": [
    "count = int(input())\n",
    "\n",
    "for i in range((count + 1) // 2):\n",
    "    if i == 0:\n",
    "        if count % 2 == 0:\n",
    "            print(f\"{'-' * ((count - 2) // 2)}**{'-' * ((count - 2) // 2)}\")\n",
    "        else:\n",
    "            print(f\"{'-' * ((count - 1) // 2)}*{'-' * ((count - 1) // 2)}\")\n",
    "    else:\n",
    "        if count % 2 == 0:\n",
    "            print(f\"{'-' * ((count - (i+1) * 2) // 2)}{'*' * ((i+ 1) * 2)}{'-' * ((count - (i+1) * 2) // 2)}\")\n",
    "        else:\n",
    "            print(f\"{'-' * ((count + 1 - (i+1) * 2) // 2)}{'*' * ((i+ 1) * 2 - 1)}{'-' * ((count + 1 - (i+1) * 2) // 2)}\")\n",
    "\n",
    "for i in range (count - (count + 1) // 2):\n",
    "    print(f\"|{'*' * (count - 2)}|\")"
   ]
  },
  {
   "cell_type": "code",
   "execution_count": 24,
   "metadata": {},
   "outputs": [
    {
     "name": "stdout",
     "output_type": "stream",
     "text": [
      "10\n",
      "----**----\n",
      "---*--*---\n",
      "--*----*--\n",
      "-*------*-\n",
      "*--------*\n",
      "-*------*-\n",
      "--*----*--\n",
      "---*--*---\n",
      "----**----\n"
     ]
    }
   ],
   "source": [
    "\n",
    "count = int(input())\n",
    "\n",
    "for i in range(1, (count + 3) // 2):\n",
    "    if (count + 1) // 2 >= i:\n",
    "        if i == 1:\n",
    "            if count % 2 == 0:\n",
    "                print(f\"{'-' * ((count - 2) // 2)}**{'-' * ((count - 2) // 2)}\")\n",
    "            else:\n",
    "                print(f\"{'-' * ((count - 1) // 2)}*{'-' * ((count - 1) // 2)}\")\n",
    "        else:\n",
    "            if count % 2 == 0:\n",
    "                print(f\"{'-' * ((count - (i - 1) * 2 - 2) // 2)}*{'-' * ((i - 1) * 2)}*{'-' * ((count - (i - 1) * 2 - 2) // 2)}\")\n",
    "            else:\n",
    "                print(f\"{'-' * ((count - (i - 1) * 2 - 1) // 2)}*{'-' * ((i - 1) * 2 - 1)}*{'-' * ((count - (i - 1) * 2 - 1) // 2)}\")\n",
    "\n",
    "for i in range((count - 1) // 2, 0, -1):\n",
    "    if (count + 1) // 2 >= i:\n",
    "        if i == 1:\n",
    "            if count % 2 == 0:\n",
    "                print(f\"{'-' * ((count - 2) // 2)}**{'-' * ((count - 2) // 2)}\")\n",
    "            else:\n",
    "                print(f\"{'-' * ((count - 1) // 2)}*{'-' * ((count - 1) // 2)}\")\n",
    "        else:\n",
    "            if count % 2 == 0:\n",
    "                print(f\"{'-' * ((count - (i - 1) * 2 - 2) // 2)}*{'-' * ((i - 1) * 2)}*{'-' * ((count - (i - 1) * 2 - 2) // 2)}\")\n",
    "            else:\n",
    "                print(f\"{'-' * ((count - (i - 1) * 2 - 1) // 2)}*{'-' * ((i - 1) * 2 - 1)}*{'-' * ((count - (i - 1) * 2 - 1) // 2)}\")"
   ]
  },
  {
   "cell_type": "code",
   "execution_count": null,
   "metadata": {},
   "outputs": [],
   "source": []
  }
 ],
 "metadata": {
  "kernelspec": {
   "display_name": "Python 3",
   "language": "python",
   "name": "python3"
  },
  "language_info": {
   "codemirror_mode": {
    "name": "ipython",
    "version": 3
   },
   "file_extension": ".py",
   "mimetype": "text/x-python",
   "name": "python",
   "nbconvert_exporter": "python",
   "pygments_lexer": "ipython3",
   "version": "3.6.5"
  }
 },
 "nbformat": 4,
 "nbformat_minor": 2
}
