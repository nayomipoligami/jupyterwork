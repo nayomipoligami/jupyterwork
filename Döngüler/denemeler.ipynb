{
 "cells": [
  {
   "cell_type": "code",
   "execution_count": 3,
   "metadata": {},
   "outputs": [
    {
     "name": "stdout",
     "output_type": "stream",
     "text": [
      "k\n",
      "n\n",
      "b\n"
     ]
    }
   ],
   "source": [
    "s=\"kaannaber\"\n",
    "for i in s[0::3]:\n",
    "    print(i)"
   ]
  },
  {
   "cell_type": "code",
   "execution_count": 11,
   "metadata": {},
   "outputs": [
    {
     "name": "stdout",
     "output_type": "stream",
     "text": [
      "p t o "
     ]
    }
   ],
   "source": [
    "i=0\n",
    "for eleman in \"python\":\n",
    "    if i%2==0:\n",
    "        print(eleman,end=\" \")\n",
    "    else:\n",
    "        pass\n",
    "\n",
    "    i+=1"
   ]
  },
  {
   "cell_type": "code",
   "execution_count": 13,
   "metadata": {},
   "outputs": [
    {
     "name": "stdout",
     "output_type": "stream",
     "text": [
      "kaan\n",
      "kaan\n",
      "kaan\n",
      "kaan\n",
      "kaan\n"
     ]
    }
   ],
   "source": [
    "i=0\n",
    "while i<5:\n",
    "    print(\"kaan\")\n",
    "    i+=1\n",
    "    "
   ]
  },
  {
   "cell_type": "code",
   "execution_count": 16,
   "metadata": {},
   "outputs": [
    {
     "name": "stdout",
     "output_type": "stream",
     "text": [
      "kaan\n",
      "kaan\n",
      "kaan\n",
      "kaan\n"
     ]
    }
   ],
   "source": [
    "\n",
    "i=1\n",
    "while i<5:\n",
    "    print(\"kaan\")\n",
    "    if i==3:\n",
    "        i+=1\n",
    "        continue\n",
    "    i+=1\n",
    "    "
   ]
  },
  {
   "cell_type": "code",
   "execution_count": 2,
   "metadata": {},
   "outputs": [
    {
     "name": "stdout",
     "output_type": "stream",
     "text": [
      "merhaba programımıza hosgeldiniz...\n",
      "cıkmak icin lutfen 'q' veya 'Q'ya basiniz....\n",
      "lutfen girmek istediginiz kelimeyi girin:kaan\n",
      "lutfen girmek istediginiz kelimeyi girin:Q\n",
      "programdan cikis yapiliyor....\n",
      "program sonlandi....\n"
     ]
    }
   ],
   "source": [
    "\n",
    "import time\n",
    "i=1\n",
    "print(\"merhaba programımıza hosgeldiniz...\")\n",
    "print(\"cıkmak icin lutfen 'q' veya 'Q'ya basiniz....\")\n",
    "liste=[]\n",
    "goruntule=\"görüntüle\"\n",
    "while True:\n",
    "    key=input(\"lutfen girmek istediginiz kelimeyi girin:\")\n",
    "    liste.append(key)\n",
    "    if key=='q' or key=='Q':\n",
    "        print(\"programdan cikis yapiliyor....\")\n",
    "        time.sleep( 5 )\n",
    "        print(\"program sonlandi....\")\n",
    "        break\n",
    "    elif key==goruntule:\n",
    "        liste.pop()\n",
    "        if len(liste)>=1:\n",
    "            for i in liste:\n",
    "                print(\"elemanlar =\",i)\n",
    "        else:\n",
    "            print(\" görüntülenecek eleman yok...\")\n",
    "    else:\n",
    "        continue\n"
   ]
  },
  {
   "cell_type": "code",
   "execution_count": null,
   "metadata": {},
   "outputs": [],
   "source": []
  }
 ],
 "metadata": {
  "kernelspec": {
   "display_name": "Python 3",
   "language": "python",
   "name": "python3"
  },
  "language_info": {
   "codemirror_mode": {
    "name": "ipython",
    "version": 3
   },
   "file_extension": ".py",
   "mimetype": "text/x-python",
   "name": "python",
   "nbconvert_exporter": "python",
   "pygments_lexer": "ipython3",
   "version": "3.6.5"
  }
 },
 "nbformat": 4,
 "nbformat_minor": 2
}
