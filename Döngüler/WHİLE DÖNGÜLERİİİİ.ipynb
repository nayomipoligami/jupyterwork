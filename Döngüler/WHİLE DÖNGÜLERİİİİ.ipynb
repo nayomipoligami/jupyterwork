{
 "cells": [
  {
   "cell_type": "code",
   "execution_count": 2,
   "metadata": {},
   "outputs": [
    {
     "name": "stdout",
     "output_type": "stream",
     "text": [
      "i nin degeri: 0\n",
      "i nin degeri: 1\n",
      "i nin degeri: 2\n",
      "i nin degeri: 3\n",
      "i nin degeri: 4\n",
      "i nin degeri: 5\n",
      "i nin degeri: 6\n",
      "i nin degeri: 7\n",
      "i nin degeri: 8\n",
      "i nin degeri: 9\n"
     ]
    }
   ],
   "source": [
    "i=0\n",
    "while i<10:\n",
    "    print(\"i nin degeri:\",i)\n",
    "    i+=1"
   ]
  },
  {
   "cell_type": "code",
   "execution_count": 3,
   "metadata": {},
   "outputs": [
    {
     "name": "stdout",
     "output_type": "stream",
     "text": [
      "i nin degeri: 0\n",
      "i nin degeri: 3\n",
      "i nin degeri: 6\n",
      "i nin degeri: 9\n",
      "i nin degeri: 12\n",
      "i nin degeri: 15\n",
      "i nin degeri: 18\n"
     ]
    }
   ],
   "source": [
    "i=0\n",
    "while i<20:\n",
    "    print(\"i nin degeri:\",i)\n",
    "    i+=3"
   ]
  },
  {
   "cell_type": "code",
   "execution_count": 1,
   "metadata": {},
   "outputs": [
    {
     "name": "stdout",
     "output_type": "stream",
     "text": [
      "python öğreniyorum\n",
      "python öğreniyorum\n",
      "python öğreniyorum\n",
      "python öğreniyorum\n",
      "python öğreniyorum\n",
      "python öğreniyorum\n",
      "python öğreniyorum\n",
      "python öğreniyorum\n",
      "python öğreniyorum\n",
      "python öğreniyorum\n",
      "python öğreniyorum\n",
      "python öğreniyorum\n",
      "python öğreniyorum\n",
      "python öğreniyorum\n",
      "python öğreniyorum\n",
      "python öğreniyorum\n",
      "python öğreniyorum\n",
      "python öğreniyorum\n",
      "python öğreniyorum\n",
      "python öğreniyorum\n",
      "python öğreniyorum\n",
      "python öğreniyorum\n",
      "python öğreniyorum\n",
      "python öğreniyorum\n",
      "python öğreniyorum\n",
      "python öğreniyorum\n",
      "python öğreniyorum\n",
      "python öğreniyorum\n",
      "python öğreniyorum\n",
      "python öğreniyorum\n",
      "python öğreniyorum\n",
      "python öğreniyorum\n",
      "python öğreniyorum\n",
      "python öğreniyorum\n",
      "python öğreniyorum\n",
      "python öğreniyorum\n",
      "python öğreniyorum\n",
      "python öğreniyorum\n",
      "python öğreniyorum\n",
      "python öğreniyorum\n"
     ]
    }
   ],
   "source": [
    "a=0\n",
    "while a<40:\n",
    "    print(\"python öğreniyorum\")\n",
    "    a+=1\n",
    "    "
   ]
  },
  {
   "cell_type": "code",
   "execution_count": 2,
   "metadata": {},
   "outputs": [
    {
     "name": "stdout",
     "output_type": "stream",
     "text": [
      "0\n",
      "1\n",
      "2\n",
      "3\n",
      "4\n",
      "5\n"
     ]
    }
   ],
   "source": [
    "liste=[0,1,2,3,4,5]\n",
    "for i in liste:\n",
    "    print(i)"
   ]
  },
  {
   "cell_type": "code",
   "execution_count": 6,
   "metadata": {},
   "outputs": [
    {
     "name": "stdout",
     "output_type": "stream",
     "text": [
      "index= 0 eleman= 1\n",
      "index= 1 eleman= 2\n",
      "index= 2 eleman= 3\n",
      "index= 3 eleman= 4\n",
      "index= 4 eleman= 5\n"
     ]
    }
   ],
   "source": [
    "index=0\n",
    "liste=[1,2,3,4,5]\n",
    "while index<len(liste):\n",
    "    print(\"index=\",index,\"eleman=\",liste[index])\n",
    "    index+=1"
   ]
  },
  {
   "cell_type": "code",
   "execution_count": 1,
   "metadata": {},
   "outputs": [],
   "source": [
    "s=\"python\"\n",
    "sayac=0\n",
    "for i in s[0:0:2]:\n",
    "    print(i)\n",
    "    "
   ]
  },
  {
   "cell_type": "code",
   "execution_count": 2,
   "metadata": {},
   "outputs": [
    {
     "name": "stdout",
     "output_type": "stream",
     "text": [
      "p t o "
     ]
    }
   ],
   "source": [
    "i=0\n",
    "for eleman in \"python\":\n",
    "    if i%2==0:\n",
    "        print(eleman,end=\" \")\n",
    "    else:\n",
    "        pass\n",
    "\n",
    "    i+=1"
   ]
  },
  {
   "cell_type": "code",
   "execution_count": 21,
   "metadata": {},
   "outputs": [
    {
     "name": "stdout",
     "output_type": "stream",
     "text": [
      "['p', 't', 'o']\n"
     ]
    }
   ],
   "source": [
    "print([i for i in \"python\"[::2]]) "
   ]
  },
  {
   "cell_type": "code",
   "execution_count": 26,
   "metadata": {},
   "outputs": [
    {
     "name": "stdout",
     "output_type": "stream",
     "text": [
      "p t o "
     ]
    }
   ],
   "source": [
    "for i in \"python\"[::2]:\n",
    " print(i,end=\" \")"
   ]
  },
  {
   "cell_type": "code",
   "execution_count": 5,
   "metadata": {},
   "outputs": [
    {
     "name": "stdout",
     "output_type": "stream",
     "text": [
      "anahtari girin:KK\n",
      "anahtari girin:KK\n",
      "anahtari girin:kye\n",
      "parolayı 3 kere yanlis girdiniz...\n"
     ]
    }
   ],
   "source": [
    "#BASİT PAROLA GİRİŞ UYGULAMASI EĞER 3 KERE YANLIS GİRLİRSE PROGRAM SONLANIR...\n",
    "i=0\n",
    "password=\"key\"\n",
    "while True:\n",
    "    dogru=str(input(\"anahtari girin:\"))\n",
    "    if dogru==password :\n",
    "        print(\"password girişi basarılı...\")\n",
    "        break\n",
    "    else:\n",
    "        i+=1\n",
    "        if(i==3):\n",
    "            print(\"parolayı 3 kere yanlis girdiniz...\")\n",
    "            break\n",
    "        \n",
    "        \n",
    "        \n",
    "   \n",
    "        "
   ]
  },
  {
   "cell_type": "code",
   "execution_count": 8,
   "metadata": {},
   "outputs": [
    {
     "name": "stdout",
     "output_type": "stream",
     "text": [
      "syc"
     ]
    }
   ],
   "source": [
    "sayac=0\n",
    "s=\"sayac\"\n",
    "for i in s[::2]:\n",
    "    print(i,end=\"\")"
   ]
  },
  {
   "cell_type": "code",
   "execution_count": 16,
   "metadata": {},
   "outputs": [
    {
     "name": "stdout",
     "output_type": "stream",
     "text": [
      "pto"
     ]
    }
   ],
   "source": [
    "sayac=0\n",
    "s=\"python\"\n",
    "for i in s[:len(s)-1:2]:\n",
    "    print(i,end=\"\")"
   ]
  },
  {
   "cell_type": "code",
   "execution_count": 21,
   "metadata": {},
   "outputs": [
    {
     "name": "stdout",
     "output_type": "stream",
     "text": [
      "pt"
     ]
    }
   ],
   "source": [
    "sayac=0\n",
    "s=\"python\"\n",
    "for i in s[:len(s)-2:2]:\n",
    "    print(i,end=\"\")"
   ]
  },
  {
   "cell_type": "code",
   "execution_count": 22,
   "metadata": {},
   "outputs": [
    {
     "name": "stdout",
     "output_type": "stream",
     "text": [
      "p/t/"
     ]
    }
   ],
   "source": [
    "sayac=0\n",
    "s=\"python\"\n",
    "for i in s[:len(s)-2:2]:\n",
    "    print(i,end=\"/\")"
   ]
  },
  {
   "cell_type": "code",
   "execution_count": 46,
   "metadata": {},
   "outputs": [
    {
     "name": "stdout",
     "output_type": "stream",
     "text": [
      "1*2*2*34*"
     ]
    }
   ],
   "source": [
    "\n",
    "i=0\n",
    "demet=(1,2,2,34,5)\n",
    "\n",
    "for i in demet[0:4:1]:\n",
    "    print(i,end=\"*\")\n",
    "\n",
    "    "
   ]
  },
  {
   "cell_type": "code",
   "execution_count": 44,
   "metadata": {},
   "outputs": [
    {
     "name": "stdout",
     "output_type": "stream",
     "text": [
      "[27, 2, 3, 4, 5]\n",
      "[27, 2, 3, 4, 5]\n",
      "[27, 2, 3, 4, 5]\n",
      "[27, 2, 3, 4, 5]\n",
      "[27, 2, 3, 4, 5]\n"
     ]
    }
   ],
   "source": [
    "i=0\n",
    "liste=[27,2,3,4,5]\n",
    "for i in liste:\n",
    "    print(liste)\n",
    "       \n",
    "        "
   ]
  },
  {
   "cell_type": "code",
   "execution_count": null,
   "metadata": {},
   "outputs": [],
   "source": [
    "# i . indis = şeklinde yap!\n",
    "i=0\n",
    "liste=[27,2,3,4,5]\n",
    "for i in liste:\n",
    "    print(liste)"
   ]
  }
 ],
 "metadata": {
  "kernelspec": {
   "display_name": "Python 3",
   "language": "python",
   "name": "python3"
  },
  "language_info": {
   "codemirror_mode": {
    "name": "ipython",
    "version": 3
   },
   "file_extension": ".py",
   "mimetype": "text/x-python",
   "name": "python",
   "nbconvert_exporter": "python",
   "pygments_lexer": "ipython3",
   "version": "3.6.5"
  }
 },
 "nbformat": 4,
 "nbformat_minor": 2
}
