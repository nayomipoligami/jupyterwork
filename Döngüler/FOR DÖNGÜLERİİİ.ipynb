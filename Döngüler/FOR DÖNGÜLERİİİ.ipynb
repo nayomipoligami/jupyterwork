{
 "cells": [
  {
   "cell_type": "markdown",
   "metadata": {},
   "source": [
    "İN operatörü  \n",
    "pythonda \"in\" operatörü bir elemanın başka bir listede,demette veya \n",
    "stringte(karakter dizilerinde) bulunup bulunmadıgını kontrol eder....."
   ]
  },
  {
   "cell_type": "code",
   "execution_count": 1,
   "metadata": {},
   "outputs": [
    {
     "data": {
      "text/plain": [
       "False"
      ]
     },
     "execution_count": 1,
     "metadata": {},
     "output_type": "execute_result"
    }
   ],
   "source": [
    "5 in [1,2,3,4]"
   ]
  },
  {
   "cell_type": "code",
   "execution_count": 2,
   "metadata": {},
   "outputs": [
    {
     "data": {
      "text/plain": [
       "True"
      ]
     },
     "execution_count": 2,
     "metadata": {},
     "output_type": "execute_result"
    }
   ],
   "source": [
    "2 in [2,3,3,4]"
   ]
  },
  {
   "cell_type": "code",
   "execution_count": 3,
   "metadata": {},
   "outputs": [
    {
     "data": {
      "text/plain": [
       "True"
      ]
     },
     "execution_count": 3,
     "metadata": {},
     "output_type": "execute_result"
    }
   ],
   "source": [
    "\"p\" in \"python\""
   ]
  },
  {
   "cell_type": "code",
   "execution_count": 4,
   "metadata": {},
   "outputs": [
    {
     "data": {
      "text/plain": [
       "False"
      ]
     },
     "execution_count": 4,
     "metadata": {},
     "output_type": "execute_result"
    }
   ],
   "source": [
    "4 in (1,2,3)"
   ]
  },
  {
   "cell_type": "code",
   "execution_count": 1,
   "metadata": {},
   "outputs": [
    {
     "data": {
      "text/plain": [
       "True"
      ]
     },
     "execution_count": 1,
     "metadata": {},
     "output_type": "execute_result"
    }
   ],
   "source": [
    "not 4 in (1,2,3)"
   ]
  },
  {
   "cell_type": "markdown",
   "metadata": {},
   "source": [
    "LİSTELER ÜZERİNDE GEZİNMEK FOR DÖNGÜSÜ İLE"
   ]
  },
  {
   "cell_type": "code",
   "execution_count": 4,
   "metadata": {},
   "outputs": [
    {
     "name": "stdout",
     "output_type": "stream",
     "text": [
      "1\n",
      "2\n",
      "3\n",
      "4\n",
      "5\n",
      "6\n",
      "7\n"
     ]
    }
   ],
   "source": [
    "\n",
    "liste=[1,2,3,4,5,6,7]\n",
    "for i in liste:\n",
    "    print(i)"
   ]
  },
  {
   "cell_type": "code",
   "execution_count": 11,
   "metadata": {},
   "outputs": [
    {
     "name": "stdout",
     "output_type": "stream",
     "text": [
      "her adimda toplam= 1\n",
      "her adimda toplam= 3\n",
      "her adimda toplam= 6\n",
      "her adimda toplam= 10\n",
      "her adimda toplam= 15\n",
      "her adimda toplam= 21\n",
      "her adimda toplam= 28\n",
      "en son ki toplam->>>>>28\n"
     ]
    }
   ],
   "source": [
    "toplam=0\n",
    "liste=[1,2,3,4,5,6,7]\n",
    "for i in liste:\n",
    "    toplam+=i\n",
    "    #toplam=toplam+i\n",
    "    print(\"her adimda toplam=\",toplam)\n",
    "print(\"en son ki toplam->>>>>{}\".format(toplam))"
   ]
  },
  {
   "cell_type": "code",
   "execution_count": 12,
   "metadata": {},
   "outputs": [
    {
     "data": {
      "text/plain": [
       "0"
      ]
     },
     "execution_count": 12,
     "metadata": {},
     "output_type": "execute_result"
    }
   ],
   "source": [
    "54%2\n"
   ]
  },
  {
   "cell_type": "code",
   "execution_count": 14,
   "metadata": {},
   "outputs": [
    {
     "name": "stdout",
     "output_type": "stream",
     "text": [
      "[2, 4, 34, 54, 78]\n"
     ]
    }
   ],
   "source": [
    "liste=[1,2,3,4,34,54,63,78]\n",
    "cift_liste=[]\n",
    "for i in liste:\n",
    "    if(i%2==0):\n",
    "        cift_liste.append(i)\n",
    "print(cift_liste)"
   ]
  },
  {
   "cell_type": "code",
   "execution_count": 17,
   "metadata": {},
   "outputs": [
    {
     "name": "stdout",
     "output_type": "stream",
     "text": [
      "\n",
      " 2\n",
      "\n",
      " 4\n",
      "\n",
      " 34\n",
      "\n",
      " 54\n",
      "\n",
      " 78\n"
     ]
    }
   ],
   "source": [
    "liste=[1,2,3,4,34,54,63,78]\n",
    "for eleman in liste:\n",
    "    if eleman%2==0:\n",
    "        print(\"\\n\",eleman)"
   ]
  },
  {
   "cell_type": "markdown",
   "metadata": {},
   "source": [
    "STRİNGLER ÜZERİNDE GEZİNMEK"
   ]
  },
  {
   "cell_type": "code",
   "execution_count": 18,
   "metadata": {},
   "outputs": [
    {
     "name": "stdout",
     "output_type": "stream",
     "text": [
      "p\n",
      "y\n",
      "t\n",
      "h\n",
      "o\n",
      "n\n"
     ]
    }
   ],
   "source": [
    "s=\"python\"\n",
    "for i in s:\n",
    "    print(i)"
   ]
  },
  {
   "cell_type": "code",
   "execution_count": 19,
   "metadata": {},
   "outputs": [
    {
     "name": "stdout",
     "output_type": "stream",
     "text": [
      "ppp\n",
      "yyy\n",
      "ttt\n",
      "hhh\n",
      "ooo\n",
      "nnn\n"
     ]
    }
   ],
   "source": [
    "s=\"python\"\n",
    "for i in s:\n",
    "    print(i*3)"
   ]
  },
  {
   "cell_type": "markdown",
   "metadata": {},
   "source": [
    "DEMETLER ÜZERİNDE GEZİNMEK FOR DÖNGÜSÜ İLE"
   ]
  },
  {
   "cell_type": "code",
   "execution_count": 21,
   "metadata": {},
   "outputs": [
    {
     "name": "stdout",
     "output_type": "stream",
     "text": [
      "1\n",
      "2\n",
      "3\n",
      "4\n",
      "5\n",
      "6\n",
      "7\n"
     ]
    }
   ],
   "source": [
    "demet=(1,2,3,4,5,6,7)\n",
    "for i in demet:\n",
    "    print(i)"
   ]
  },
  {
   "cell_type": "markdown",
   "metadata": {},
   "source": [
    "LİSTELER İÇİN 2 BOYUTLU DEMETLER"
   ]
  },
  {
   "cell_type": "code",
   "execution_count": 22,
   "metadata": {},
   "outputs": [
    {
     "name": "stdout",
     "output_type": "stream",
     "text": [
      "(1, 2)\n",
      "(3, 4)\n",
      "(5, 6)\n",
      "(7, 8)\n"
     ]
    }
   ],
   "source": [
    "liste3=[(1,2),(3,4),(5,6),(7,8)]\n",
    "for eleman in  liste3 :\n",
    "    print(eleman)"
   ]
  },
  {
   "cell_type": "markdown",
   "metadata": {},
   "source": [
    "LİSTELER İÇİN 2 BOYUTLU DEMETLERDE HER ELEMANI \n",
    "TEK TEK ALMAK İSTERSEK PYTHONDA BUNA UYGUN COK PRATİK BİR YÖNTEM VAR"
   ]
  },
  {
   "cell_type": "code",
   "execution_count": 24,
   "metadata": {},
   "outputs": [
    {
     "name": "stdout",
     "output_type": "stream",
     "text": [
      "i=1 ,j=2\n",
      "i=3 ,j=4\n",
      "i=5 ,j=6\n",
      "i=7 ,j=8\n"
     ]
    }
   ],
   "source": [
    "for i,j in liste3:\n",
    "    print(\"i={} ,j={}\".format(i,j))"
   ]
  },
  {
   "cell_type": "code",
   "execution_count": 25,
   "metadata": {},
   "outputs": [
    {
     "name": "stdout",
     "output_type": "stream",
     "text": [
      "i=1 ,j=2 ,k=3\n",
      "i=4 ,j=5 ,k=6\n",
      "i=7 ,j=8 ,k=9\n",
      "i=10 ,j=11 ,k=12\n"
     ]
    }
   ],
   "source": [
    "liste=[(1,2,3),(4,5,6),(7,8,9),(10,11,12)]\n",
    "for i,j,k in liste:\n",
    "    print(\"i={} ,j={} ,k={}\".format(i,j,k))"
   ]
  },
  {
   "cell_type": "code",
   "execution_count": 26,
   "metadata": {},
   "outputs": [
    {
     "name": "stdout",
     "output_type": "stream",
     "text": [
      "6\n",
      "120\n",
      "504\n",
      "1320\n"
     ]
    }
   ],
   "source": [
    "liste=[(1,2,3),(4,5,6),(7,8,9),(10,11,12)]\n",
    "for i,j,k in liste:\n",
    "    print(i*j*k)"
   ]
  },
  {
   "cell_type": "markdown",
   "metadata": {},
   "source": [
    "FOR DÖNGÜLERİ İLE SÖZLÜKLER ÜZERİNDE GEZİNMEK!"
   ]
  },
  {
   "cell_type": "code",
   "execution_count": 29,
   "metadata": {},
   "outputs": [
    {
     "data": {
      "text/plain": [
       "dict_keys(['bir', 'iki', 'üc', 'dört'])"
      ]
     },
     "execution_count": 29,
     "metadata": {},
     "output_type": "execute_result"
    }
   ],
   "source": [
    "sözlük={\"bir\":1,\"iki\":2,\"üc\":3,\"dört\":4}\n",
    "sözlük.keys()"
   ]
  },
  {
   "cell_type": "code",
   "execution_count": 30,
   "metadata": {},
   "outputs": [
    {
     "data": {
      "text/plain": [
       "dict_values([1, 2, 3, 4])"
      ]
     },
     "execution_count": 30,
     "metadata": {},
     "output_type": "execute_result"
    }
   ],
   "source": [
    "sözlük.values()"
   ]
  },
  {
   "cell_type": "code",
   "execution_count": 31,
   "metadata": {},
   "outputs": [
    {
     "data": {
      "text/plain": [
       "dict_items([('bir', 1), ('iki', 2), ('üc', 3), ('dört', 4)])"
      ]
     },
     "execution_count": 31,
     "metadata": {},
     "output_type": "execute_result"
    }
   ],
   "source": [
    "#sözlük.items bize demet seklinde ortaya cıkarıyor....\n",
    "sözlük.items()"
   ]
  },
  {
   "cell_type": "code",
   "execution_count": 32,
   "metadata": {},
   "outputs": [
    {
     "name": "stdout",
     "output_type": "stream",
     "text": [
      "bir\n",
      "iki\n",
      "üc\n",
      "dört\n"
     ]
    }
   ],
   "source": [
    "for eleman in sözlük:\n",
    "    print(eleman)"
   ]
  },
  {
   "cell_type": "code",
   "execution_count": 33,
   "metadata": {},
   "outputs": [
    {
     "name": "stdout",
     "output_type": "stream",
     "text": [
      "1\n",
      "2\n",
      "3\n",
      "4\n"
     ]
    }
   ],
   "source": [
    "#sözlüğün sadece elemanlarini almak istersek\n",
    "for eleman in sözlük.values():\n",
    "    print(eleman)"
   ]
  },
  {
   "cell_type": "code",
   "execution_count": 34,
   "metadata": {},
   "outputs": [
    {
     "name": "stdout",
     "output_type": "stream",
     "text": [
      "('bir', 1)\n",
      "('iki', 2)\n",
      "('üc', 3)\n",
      "('dört', 4)\n"
     ]
    }
   ],
   "source": [
    "for eleman in sözlük.items():\n",
    "    print(eleman)"
   ]
  },
  {
   "cell_type": "code",
   "execution_count": 38,
   "metadata": {},
   "outputs": [
    {
     "data": {
      "text/plain": [
       "dict_items([('bir', 1), ('iki', 2), ('üc', 3), ('dört', 4)])"
      ]
     },
     "execution_count": 38,
     "metadata": {},
     "output_type": "execute_result"
    }
   ],
   "source": [
    "sözlük.items()"
   ]
  },
  {
   "cell_type": "code",
   "execution_count": 39,
   "metadata": {},
   "outputs": [
    {
     "name": "stdout",
     "output_type": "stream",
     "text": [
      "i=bir ,j=1\n",
      "i=iki ,j=2\n",
      "i=üc ,j=3\n",
      "i=dört ,j=4\n"
     ]
    }
   ],
   "source": [
    "sözlük.items()\n",
    "for i,j in sözlük.items():\n",
    "    print(\"i={} ,j={}\".format(i,j))"
   ]
  },
  {
   "cell_type": "code",
   "execution_count": 43,
   "metadata": {
    "scrolled": true
   },
   "outputs": [
    {
     "name": "stdout",
     "output_type": "stream",
     "text": [
      "a.Hello World\n",
      "b.Hello World\n",
      "c.Hello World\n",
      "d.Hello World\n",
      "e.Hello World\n",
      "f.Hello World\n"
     ]
    }
   ],
   "source": [
    "liste = ['a','b','c','d','e','f']\n",
    "for eleman in  liste:\n",
    "    print(\"{}.Hello World\".format(eleman))"
   ]
  },
  {
   "cell_type": "code",
   "execution_count": 48,
   "metadata": {},
   "outputs": [
    {
     "ename": "SyntaxError",
     "evalue": "unexpected EOF while parsing (<ipython-input-48-9d3f8e73c915>, line 2)",
     "output_type": "error",
     "traceback": [
      "\u001b[1;36m  File \u001b[1;32m\"<ipython-input-48-9d3f8e73c915>\"\u001b[1;36m, line \u001b[1;32m2\u001b[0m\n\u001b[1;33m    for i,j,k,l in liste:\u001b[0m\n\u001b[1;37m                         ^\u001b[0m\n\u001b[1;31mSyntaxError\u001b[0m\u001b[1;31m:\u001b[0m unexpected EOF while parsing\n"
     ]
    }
   ],
   "source": [
    " liste = [(1,2,3),(4,5,6,7)]\n",
    "for i,j,k,l in liste:\n",
    "    \n"
   ]
  },
  {
   "cell_type": "code",
   "execution_count": 6,
   "metadata": {},
   "outputs": [
    {
     "name": "stdout",
     "output_type": "stream",
     "text": [
      "1\n",
      "2\n",
      "3\n",
      "4\n",
      "5\n",
      "6\n",
      "7\n",
      "8\n",
      "9\n"
     ]
    }
   ],
   "source": [
    "liste = [(1,2,3),(4,5,6,7),(8,9)]\n",
    " \n",
    "for i in range(0,len(liste)):\n",
    "   for j in liste[i]:\n",
    "       print(j)"
   ]
  },
  {
   "cell_type": "code",
   "execution_count": 50,
   "metadata": {},
   "outputs": [
    {
     "name": "stdout",
     "output_type": "stream",
     "text": [
      "1\n",
      "179\n",
      "183\n",
      "238\n",
      "26696\n",
      "26701\n"
     ]
    }
   ],
   "source": [
    "sayı = 0\n",
    " \n",
    "liste = [1,178,4,55,26458,5]\n",
    " \n",
    "for eleman in liste:\n",
    "    sayı = sayı + eleman\n",
    "    print(sayı)"
   ]
  },
  {
   "cell_type": "code",
   "execution_count": 1,
   "metadata": {},
   "outputs": [
    {
     "name": "stdout",
     "output_type": "stream",
     "text": [
      "1.kişi : ali\n",
      "2.kişi : ahmet\n",
      "3.kişi : mustafa\n"
     ]
    }
   ],
   "source": [
    "sayac=1\n",
    "\n",
    "liste=[\"ali\",\"ahmet\",\"mustafa\"]\n",
    "\n",
    "for eleman in liste:\n",
    "\n",
    "      print(\"{}.kişi : {}\".format(sayac,eleman))\n",
    "      sayac+=1\n",
    "      "
   ]
  },
  {
   "cell_type": "code",
   "execution_count": null,
   "metadata": {},
   "outputs": [],
   "source": [
    "listee = [1,2,3,4,5]\n",
    "toplam=0\n",
    "for x in listee:\n",
    "    sayi = int(input(\"Sayi Giriniz: \"))\n",
    "    toplam += sayi\n",
    "    print(toplam)\n",
    "    \n",
    "print(\"Sonuc: {}\".format(toplam)) "
   ]
  },
  {
   "cell_type": "code",
   "execution_count": 4,
   "metadata": {},
   "outputs": [
    {
     "name": "stdout",
     "output_type": "stream",
     "text": [
      "[1]\n",
      "ciftlerde hey yaz:\n",
      "[1, 3]\n",
      "ciftlerde hey yaz:\n",
      "[1, 3, 5]\n"
     ]
    }
   ],
   "source": [
    "liste=[1,2,3,4,5]\n",
    "tek_list=[]\n",
    "for i in liste:\n",
    "    if i%2==0:\n",
    "        print(\"ciftlerde hey yaz:\")\n",
    "    else:\n",
    "        tek_list.append(i)\n",
    "        print(tek_list)"
   ]
  },
  {
   "cell_type": "code",
   "execution_count": 8,
   "metadata": {},
   "outputs": [
    {
     "name": "stdout",
     "output_type": "stream",
     "text": [
      "her adımda birbiriyle toplanan elemanlar 1\n",
      "her adımda birbiriyle toplanan elemanlar 179\n",
      "her adımda birbiriyle toplanan elemanlar 183\n",
      "her adımda birbiriyle toplanan elemanlar 238\n",
      "her adımda birbiriyle toplanan elemanlar 26696\n",
      "her adımda birbiriyle toplanan elemanlar 26701\n"
     ]
    }
   ],
   "source": [
    "liste = [1,178,4,55,26458,5]\n",
    "toplam2=0\n",
    "for i in liste:\n",
    "    toplam2+=i\n",
    "    print(\"her adımda birbiriyle toplanan elemanlar\",toplam2)"
   ]
  },
  {
   "cell_type": "code",
   "execution_count": 11,
   "metadata": {},
   "outputs": [
    {
     "name": "stdout",
     "output_type": "stream",
     "text": [
      "toplancak sayilari sirayla girin:1\n",
      "her adimda girilen sayilarin toplami: 1\n",
      "toplancak sayilari sirayla girin:2\n",
      "her adimda girilen sayilarin toplami: 3\n",
      "toplancak sayilari sirayla girin:3\n",
      "her adimda girilen sayilarin toplami: 6\n",
      "toplancak sayilari sirayla girin:4\n",
      "her adimda girilen sayilarin toplami: 10\n",
      "toplancak sayilari sirayla girin:5\n",
      "her adimda girilen sayilarin toplami: 15\n"
     ]
    }
   ],
   "source": [
    "listee = [1,2,3,4,5]\n",
    "toplam3=0\n",
    "for i in listee:\n",
    "    sayi=int(input(\"toplancak sayilari sirayla girin:\"))\n",
    "    toplam3+=sayi\n",
    "    print(\"her adimda girilen sayilarin toplami:\",toplam3)"
   ]
  },
  {
   "cell_type": "code",
   "execution_count": null,
   "metadata": {},
   "outputs": [],
   "source": []
  }
 ],
 "metadata": {
  "kernelspec": {
   "display_name": "Python 3",
   "language": "python",
   "name": "python3"
  },
  "language_info": {
   "codemirror_mode": {
    "name": "ipython",
    "version": 3
   },
   "file_extension": ".py",
   "mimetype": "text/x-python",
   "name": "python",
   "nbconvert_exporter": "python",
   "pygments_lexer": "ipython3",
   "version": "3.6.5"
  }
 },
 "nbformat": 4,
 "nbformat_minor": 2
}
