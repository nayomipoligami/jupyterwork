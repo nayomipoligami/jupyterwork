{
 "cells": [
  {
   "cell_type": "code",
   "execution_count": 1,
   "metadata": {},
   "outputs": [],
   "source": [
    "#listelerdeki append metodunu hatırlayalım....\n",
    "liste1=[1,2,3,4,5]\n",
    "liste1.append(6)"
   ]
  },
  {
   "cell_type": "code",
   "execution_count": 2,
   "metadata": {},
   "outputs": [
    {
     "data": {
      "text/plain": [
       "[1, 2, 3, 4, 5, 6]"
      ]
     },
     "execution_count": 2,
     "metadata": {},
     "output_type": "execute_result"
    }
   ],
   "source": [
    "liste1\n"
   ]
  },
  {
   "cell_type": "code",
   "execution_count": 4,
   "metadata": {},
   "outputs": [
    {
     "name": "stdout",
     "output_type": "stream",
     "text": [
      "[1, 2, 3, 4, 5, 6]\n"
     ]
    }
   ],
   "source": [
    "#liste1 deki elemanlarin hepsini liste2 ye atmak ama bu uzun bi yöntem daha kolayı var..\n",
    "liste2=[]\n",
    "for i in liste1:\n",
    "    liste2.append(i)\n",
    "print(liste2)"
   ]
  },
  {
   "cell_type": "code",
   "execution_count": 7,
   "metadata": {},
   "outputs": [
    {
     "name": "stdout",
     "output_type": "stream",
     "text": [
      "[1, 2, 3, 4, 5]\n"
     ]
    }
   ],
   "source": [
    "#list comprehension ile daha kolay yapabilriiz....\n",
    "liste3=[1,2,3,4,5]\n",
    "liste4=[i for i in liste3] #list comprehension\n",
    "print(liste4)"
   ]
  },
  {
   "cell_type": "code",
   "execution_count": 10,
   "metadata": {},
   "outputs": [
    {
     "name": "stdout",
     "output_type": "stream",
     "text": [
      "[6, 8, 10]\n"
     ]
    }
   ],
   "source": [
    "#liste1 olustururken listedeki elemanlari 2 ile carpıp \n",
    "#liste1 i olusturmak ıstersek...\n",
    "liste=[3,4,5]\n",
    "liste1=[i*2 for i in liste] #list comprehension\n",
    "print(liste1)"
   ]
  },
  {
   "cell_type": "code",
   "execution_count": 12,
   "metadata": {},
   "outputs": [
    {
     "name": "stdout",
     "output_type": "stream",
     "text": [
      "[2, 12, 30]\n"
     ]
    }
   ],
   "source": [
    "liste5=[(1,2),(3,4),(5,6)]\n",
    "liste6=[i*j for i,j in liste5 ]#list comprehension ı farklı sekilde olusturduk..\n",
    "print(liste6)"
   ]
  },
  {
   "cell_type": "code",
   "execution_count": 2,
   "metadata": {},
   "outputs": [
    {
     "name": "stdout",
     "output_type": "stream",
     "text": [
      "['p', 'y', 't', 'h', 'o', 'n']\n"
     ]
    }
   ],
   "source": [
    "#ÖNEMLİİİİİİ......\n",
    "s=\"python\"\n",
    "liste1=[i for i in s]\n",
    "print(liste1)"
   ]
  },
  {
   "cell_type": "markdown",
   "metadata": {},
   "source": [
    "peki bizim iç içe bir listemiz olsa onu tek bir liste haline \n",
    "list comprehension ile nasıl yapabiliriz\n",
    "bunu ilk önce list comprehensionsız yapalım sonra list comprehensionlı haline getirelim.."
   ]
  },
  {
   "cell_type": "code",
   "execution_count": 18,
   "metadata": {},
   "outputs": [
    {
     "name": "stdout",
     "output_type": "stream",
     "text": [
      "[1, 2, 3, 4, 5, 6, 7, 8, 9, 10, 11, 12, 13, 14, 15]\n"
     ]
    }
   ],
   "source": [
    "liste=[[1,2,3],[4,5,6,7,8],[9,10,11,12,13,14,15]]\n",
    "liste2=[]\n",
    "for i in liste:\n",
    "    for j in i:\n",
    "        liste2.append(j)\n",
    "print(liste2)"
   ]
  },
  {
   "cell_type": "code",
   "execution_count": 19,
   "metadata": {},
   "outputs": [
    {
     "name": "stdout",
     "output_type": "stream",
     "text": [
      "[1, 2, 3, 4, 5, 6, 7, 8, 9, 10, 11, 12, 13, 14, 15]\n"
     ]
    }
   ],
   "source": [
    "#list comprehension lı hali.....\n",
    "liste=[[1,2,3],[4,5,6,7,8],[9,10,11,12,13,14,15]]\n",
    "liste2=[j for i in liste for j in i] #burdan anlıyoruzki icteki for önde gösteriliyor \n",
    "#list comprehension da.....\n",
    "print(liste2)"
   ]
  },
  {
   "cell_type": "code",
   "execution_count": 21,
   "metadata": {},
   "outputs": [
    {
     "name": "stdout",
     "output_type": "stream",
     "text": [
      "listeye eklenicek elemanı girin:kaan\n",
      "listeye eklenicek elemanı girin:sua\n",
      "listeye eklenicek elemanı girin:bu\n",
      "listeye eklenicek elemanı girin:sua\n",
      "listeye eklenicek elemanı girin:du<\n",
      "listeye eklenicek elemanı girin:ıı\n",
      "listeye eklenicek elemanı girin:q\n",
      "['kaan', 'sua', 'bu', 'sua', 'du<', 'ıı', 'q']\n"
     ]
    }
   ],
   "source": [
    "dizi=[]\n",
    "while True:\n",
    "    eleman=input(\"listeye eklenicek elemanı girin:\")\n",
    "    dizi.append(eleman)\n",
    "    if eleman==\"q\":\n",
    "        break\n",
    "print(dizi)"
   ]
  },
  {
   "cell_type": "code",
   "execution_count": 22,
   "metadata": {},
   "outputs": [
    {
     "name": "stdout",
     "output_type": "stream",
     "text": [
      "Diziye eklenecek bir değer giriniz : kaan\n",
      "Diziye eklenecek bir değer giriniz : ben\n",
      "Diziye eklenecek bir değer giriniz : sen\n",
      "Diziye eklenecek bir değer giriniz : su\n",
      "Diziye eklenecek bir değer giriniz : bu\n",
      "Diziye eklenecek bir değer giriniz : q\n",
      "['kaan', 'ben', 'sen', 'su', 'bu']\n"
     ]
    }
   ],
   "source": [
    "dizi=[]\n",
    "while True:\n",
    "    dizi_secim=input(\"Diziye eklenecek bir değer giriniz : \")\n",
    "    if dizi_secim!=\"q\":\n",
    "        dizi.append(dizi_secim)\n",
    "    else:\n",
    "        break\n",
    "print(dizi)"
   ]
  },
  {
   "cell_type": "code",
   "execution_count": 1,
   "metadata": {},
   "outputs": [],
   "source": [
    "liste=[[1,2,3],[4,5,6,7,8],[9,10,11,12,13,14,15]]\n",
    "liste2=[j for i in liste for j in i] "
   ]
  },
  {
   "cell_type": "code",
   "execution_count": 8,
   "metadata": {},
   "outputs": [
    {
     "name": "stdout",
     "output_type": "stream",
     "text": [
      "1\n",
      "2\n",
      "3\n",
      "4\n",
      "5\n",
      "6\n",
      "7\n",
      "8\n",
      "9\n",
      "10\n",
      "11\n",
      "12\n",
      "13\n",
      "14\n",
      "15\n"
     ]
    }
   ],
   "source": [
    "liste=[[1,2,3],[4,5,6,7,8],[9,10,11,12,13,14,15]]\n",
    "for i in liste:\n",
    "    for j in i:\n",
    "        print(\"{}.listenin {}.elemani:\".format())"
   ]
  },
  {
   "cell_type": "code",
   "execution_count": 9,
   "metadata": {},
   "outputs": [
    {
     "name": "stdout",
     "output_type": "stream",
     "text": [
      "asal \n",
      "asal \n"
     ]
    }
   ],
   "source": [
    "def asalsayi_Bulma(sayi):\n",
    "    for i in range(2,sayi):\n",
    "        if sayi==2:\n",
    "            return \"asal\"\n",
    "        elif sayi>2:\n",
    "            if sayi%i==0:\n",
    "                return \"asal degil\"\n",
    "            else:\n",
    "                return \"asal \"\n",
    "print(asalsayi_Bulma(21))\n",
    "print(asalsayi_Bulma(25))"
   ]
  },
  {
   "cell_type": "code",
   "execution_count": null,
   "metadata": {},
   "outputs": [],
   "source": []
  }
 ],
 "metadata": {
  "kernelspec": {
   "display_name": "Python 3",
   "language": "python",
   "name": "python3"
  },
  "language_info": {
   "codemirror_mode": {
    "name": "ipython",
    "version": 3
   },
   "file_extension": ".py",
   "mimetype": "text/x-python",
   "name": "python",
   "nbconvert_exporter": "python",
   "pygments_lexer": "ipython3",
   "version": "3.6.5"
  }
 },
 "nbformat": 4,
 "nbformat_minor": 2
}
