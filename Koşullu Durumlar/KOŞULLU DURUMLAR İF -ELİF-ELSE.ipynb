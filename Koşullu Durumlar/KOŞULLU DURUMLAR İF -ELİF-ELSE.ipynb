{
 "cells": [
  {
   "cell_type": "code",
   "execution_count": 2,
   "metadata": {},
   "outputs": [
    {
     "name": "stdout",
     "output_type": "stream",
     "text": [
      "a =2 ise bu komut calısıcak\n",
      "merhaba if !\n"
     ]
    }
   ],
   "source": [
    "a=2\n",
    "if(a==2):\n",
    "   print(\"a =2 ise bu komut calısıcak\")\n",
    "print(\"merhaba if !\")"
   ]
  },
  {
   "cell_type": "code",
   "execution_count": 4,
   "metadata": {},
   "outputs": [
    {
     "name": "stdout",
     "output_type": "stream",
     "text": [
      "naber\n"
     ]
    }
   ],
   "source": [
    "a=3\n",
    "if(a!=3):\n",
    "    print(\"hey naber?\")\n",
    "print(\"naber\")"
   ]
  },
  {
   "cell_type": "code",
   "execution_count": 17,
   "metadata": {},
   "outputs": [
    {
     "name": "stdout",
     "output_type": "stream",
     "text": [
      "a =2 ise bu komut calısıcak\n",
      "merhaba if !\n"
     ]
    }
   ],
   "source": [
    "a=2\n",
    "b=None\n",
    "if(a):\n",
    "   print(\"a =2 ise bu komut calısıcak\")\n",
    "print(\"merhaba if !\")"
   ]
  },
  {
   "cell_type": "code",
   "execution_count": 9,
   "metadata": {},
   "outputs": [
    {
     "name": "stdout",
     "output_type": "stream",
     "text": [
      "kaç yasindasiniz? :14\n",
      "kusura bakmayin iceri giremezsiniz(biraz daha büyümelisiniz xd)....\n"
     ]
    }
   ],
   "source": [
    "yas=int(input(\"kaç yasindasiniz? :\"))\n",
    "if(yas>=18): \n",
    "    print(\"gir iceri hadi...\")\n",
    "    if (yas>70):\n",
    "            print(\"öhh hocam ölecen....\")\n",
    "            if yas >=100:\n",
    "                print(\"yok mınaa...\")\n",
    "    elif yas>33:\n",
    "        print(\"pisst yakısıklı\")\n",
    "        print(\"pisst güzellik\")\n",
    "    else:\n",
    "        print(\"yavruum\")\n",
    "elif yas<18 and yas>=16:\n",
    "    print(\"az kalmıs ha gayrettt...\")\n",
    "else:\n",
    "    print(\"kusura bakmayin iceri giremezsiniz(biraz daha büyümelisiniz xd)....\")"
   ]
  },
  {
   "cell_type": "code",
   "execution_count": 21,
   "metadata": {},
   "outputs": [
    {
     "name": "stdout",
     "output_type": "stream",
     "text": [
      "ismini söylemelisiniz :nuri\n",
      "kac yasindasiniz?????199\n",
      "sen kimsin mkkkk!!!\n"
     ]
    }
   ],
   "source": [
    "isim=str(input(\"ismini söylemelisiniz :\"))\n",
    "yas=int(input(\"kac yasindasiniz?????\"))\n",
    "if isim==\"kaan\":\n",
    "    print(\"ooo kaan bey hoşgeldiniz nasılsınız\")\n",
    "    if yas>19:\n",
    "        print(\"ya siz osunuzzzz!!!!! \")\n",
    "elif isim==\"furkan\" :\n",
    "    print(\"merhaba furkan bey hosgeldiniz\")\n",
    "else :\n",
    "    print(\"sen kimsin mkkkk!!!\")\n"
   ]
  },
  {
   "cell_type": "code",
   "execution_count": 31,
   "metadata": {},
   "outputs": [
    {
     "name": "stdout",
     "output_type": "stream",
     "text": [
      "işlem seçiniz:1\n",
      "1.işlemi sectininiz...\n",
      "1.sayiyi girin:25\n",
      "2.sayiyi girin:21\n",
      "46\n"
     ]
    }
   ],
   "source": [
    "islem=int(input(\"işlem seçiniz:\"))\n",
    "if islem==1:\n",
    "    print(\"1.işlemi sectininiz...\")\n",
    "    sayi1=int(input(\"1.sayiyi girin:\"))\n",
    "    sayi2=int(input(\"2.sayiyi girin:\"))\n",
    "    if sayi1>sayi2:\n",
    "        print(sayi1+sayi2)\n",
    "        \n",
    "    else:\n",
    "        print(sayi2-sayi1) \n",
    "else:\n",
    "    print(\"hoscakalin....\")\n"
   ]
  },
  {
   "cell_type": "code",
   "execution_count": 36,
   "metadata": {},
   "outputs": [
    {
     "name": "stdout",
     "output_type": "stream",
     "text": [
      "işlem seçiniz:\"1\"\n"
     ]
    }
   ],
   "source": [
    "islem=str(input(\"işlem seçiniz:\"))\n",
    "if islem==\"1\":\n",
    "    print(\"toplam\")\n"
   ]
  },
  {
   "cell_type": "code",
   "execution_count": 7,
   "metadata": {},
   "outputs": [
    {
     "name": "stdout",
     "output_type": "stream",
     "text": [
      "işlem seçiniz:1\n",
      "toplam\n"
     ]
    }
   ],
   "source": [
    "islem=str(input(\"işlem seçiniz:\"))\n",
    "if islem==\"1\":\n",
    "    print(\"toplam\")\n",
    "elif islem==\"2\":\n",
    "    print(\"cıkarma\")\n",
    "elif islem==\"3\":\n",
    "    print(\"bölme\")\n",
    "else :\n",
    "    print(\"hey\")\n",
    "    \n"
   ]
  },
  {
   "cell_type": "code",
   "execution_count": 3,
   "metadata": {},
   "outputs": [
    {
     "ename": "SyntaxError",
     "evalue": "invalid syntax (<ipython-input-3-7fceac4c4af5>, line 3)",
     "output_type": "error",
     "traceback": [
      "\u001b[1;36m  File \u001b[1;32m\"<ipython-input-3-7fceac4c4af5>\"\u001b[1;36m, line \u001b[1;32m3\u001b[0m\n\u001b[1;33m    else :\u001b[0m\n\u001b[1;37m       ^\u001b[0m\n\u001b[1;31mSyntaxError\u001b[0m\u001b[1;31m:\u001b[0m invalid syntax\n"
     ]
    }
   ],
   "source": [
    "#bu kullanımda hata verdi cunku \"elif\" ve \"else \" \n",
    "#durumları tek basına kullanılamaz\n",
    "else :\n",
    "    print(\"gecersiz işlem\")"
   ]
  },
  {
   "cell_type": "code",
   "execution_count": null,
   "metadata": {},
   "outputs": [],
   "source": [
    "print('programdan cıkmak icin [q] ya basınız')\n",
    "not=input(\"notunuzu girin\")\n",
    "if not=='q':\n",
    "    print(\"programimizi kullandiginiz icin teşekkurler\")\n",
    "    break\n",
    "else :  \n",
    "    if(int(not)>90):\n",
    "        print(\"harf notunuz AA -- tebrikler ....\")\n",
    "    elif(int(not<90 and int(not>=65):\n",
    "        print(\"harf notunuz CC -- tebrikler dersi geçtiniz.....\")\n",
    "    elif(int(not)<65):\n",
    "        print(\"dersten kaldınız .....\")\n"
   ]
  },
  {
   "cell_type": "code",
   "execution_count": 57,
   "metadata": {},
   "outputs": [
    {
     "name": "stdout",
     "output_type": "stream",
     "text": [
      "Notunuzu girin.65\n",
      "DC\n"
     ]
    }
   ],
   "source": [
    "note = float(input(\"Notunuzu girin.\"))\n",
    "\n",
    "if (note >= 90):\n",
    "    print(\"AA\")\n",
    "elif (note >= 85):\n",
    "    print(\"BA\")\n",
    "elif (note >= 80):\n",
    "    print(\"BB\")\n",
    "elif (note >= 75):\n",
    "    print(\"CB\")\n",
    "elif (note >= 70):\n",
    "    print(\"CC\")\n",
    "elif (note >= 65):\n",
    "    print(\"DC\")\n",
    "elif (note >= 60):\n",
    "    print(\"DD\")\n",
    "else:\n",
    "    print(\"Kaldınız.\")"
   ]
  },
  {
   "cell_type": "code",
   "execution_count": 58,
   "metadata": {},
   "outputs": [
    {
     "name": "stdout",
     "output_type": "stream",
     "text": [
      "Notunuzu girin.80\n",
      "BB\n",
      "CB\n",
      "CC\n",
      "DC\n",
      "DD\n"
     ]
    }
   ],
   "source": [
    "note = float(input(\"Notunuzu girin.\"))\n",
    "\n",
    "if (note >= 90):\n",
    "    print(\"AA\")\n",
    "if (note >= 85):\n",
    "    print(\"BA\")\n",
    "if (note >= 80):\n",
    "    print(\"BB\")\n",
    "if (note >= 75):\n",
    "    print(\"CB\")\n",
    "if (note >= 70):\n",
    "    print(\"CC\")\n",
    "if (note >= 65):\n",
    "    print(\"DC\")\n",
    "if (note >= 60):\n",
    "    print(\"DD\")\n",
    "else:\n",
    "    print(\"Kaldınız.\")"
   ]
  },
  {
   "cell_type": "code",
   "execution_count": null,
   "metadata": {},
   "outputs": [],
   "source": []
  }
 ],
 "metadata": {
  "kernelspec": {
   "display_name": "Python 3",
   "language": "python",
   "name": "python3"
  },
  "language_info": {
   "codemirror_mode": {
    "name": "ipython",
    "version": 3
   },
   "file_extension": ".py",
   "mimetype": "text/x-python",
   "name": "python",
   "nbconvert_exporter": "python",
   "pygments_lexer": "ipython3",
   "version": "3.6.5"
  }
 },
 "nbformat": 4,
 "nbformat_minor": 2
}
