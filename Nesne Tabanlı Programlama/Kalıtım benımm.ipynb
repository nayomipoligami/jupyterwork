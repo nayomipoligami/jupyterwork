{
 "cells": [
  {
   "cell_type": "code",
   "execution_count": 1,
   "metadata": {},
   "outputs": [],
   "source": [
    "#ilk once ana bir class olusturalım....\n",
    "class Calısan():\n",
    "    def __init__(self,isim,maas,departman):\n",
    "        print(\"calısan sınıfının init fonksiyonu....\")\n",
    "        self.isim=isim\n",
    "        self.maas=maas\n",
    "        self.departman=departman\n",
    "        \n",
    "    def bilgilerigoster(self):\n",
    "        print(\"calısan sınıfının bilgileri.......\")\n",
    "        \n",
    "        print(\"isim :{}\\nMaas :{}\\nDepartman :{}\\n\".format(self.isim,self.maas,self.departman))\n",
    "        \n",
    "    def departmandegistir(self,yenidepartman):\n",
    "        self.departman=yenidepartman\n",
    "    \n",
    "#calısan sınıfını olusturduk bundan sonra simdi yonetici sınıfı olusturucaz\n",
    "#ama bu yonetıcı sınıfına hepsini tek tek tanımlamıcaz \n",
    "#bu sınıf calısan sınıfından kalıtım yapıcakk\n",
    "\n",
    "\n",
    "        \n",
    "        \n",
    "        "
   ]
  },
  {
   "cell_type": "code",
   "execution_count": 3,
   "metadata": {},
   "outputs": [
    {
     "ename": "SyntaxError",
     "evalue": "unexpected EOF while parsing (<ipython-input-3-adf186d9ed78>, line 2)",
     "output_type": "error",
     "traceback": [
      "\u001b[1;36m  File \u001b[1;32m\"<ipython-input-3-adf186d9ed78>\"\u001b[1;36m, line \u001b[1;32m2\u001b[0m\n\u001b[1;33m    \u001b[0m\n\u001b[1;37m    ^\u001b[0m\n\u001b[1;31mSyntaxError\u001b[0m\u001b[1;31m:\u001b[0m unexpected EOF while parsing\n"
     ]
    }
   ],
   "source": [
    "class Yönetici(Calısan):\n",
    "    "
   ]
  },
  {
   "cell_type": "code",
   "execution_count": 6,
   "metadata": {},
   "outputs": [],
   "source": [
    "#asagıda goruldugu gıbı yonetici sınıfı calısan sınıfında miras alıyor...\n",
    "#yani eger bi class dıgerınden miras alıcaksan classsı tanımlarken miras alıcagı classı\n",
    "#parantez ıcıne parametre gibi yazıyoruz...\n",
    "#biz asagıda parantez ıcıne calısan yazdıgımız ıcın yönetici sınıfı\n",
    "#calısan sınıfının tum ozellıklerıne ve metotlarına sahip oldu...\n",
    "\n",
    "\n",
    "class Yönetici(Calısan):\n",
    "    pass #pass terimi bir blogu sonrdan tanımlıcaksan eger boyle yazdıgında\n",
    "         #python sana sıkıntı cıkarmaz bir islemi sonradan tanımlıcaksan yanii\n",
    "         #eger pass yazmasaydık sıkıntı cıkardı..yukarıda goruldugu gıbı bos olamaz...\n",
    "        \n"
   ]
  },
  {
   "cell_type": "code",
   "execution_count": 8,
   "metadata": {},
   "outputs": [
    {
     "name": "stdout",
     "output_type": "stream",
     "text": [
      "calısan sınıfının init fonksiyonu....\n"
     ]
    }
   ],
   "source": [
    "#simdi yonetici nesnesi olusturalım bakalım miras almısmıyız \n",
    "yönetici=Yönetici(\"kaan\",3000,\"bilisim\")"
   ]
  },
  {
   "cell_type": "code",
   "execution_count": 12,
   "metadata": {},
   "outputs": [],
   "source": [
    "#yukarıda goruldugu gıbı calısan sınıfının ınıt fonksiyonu yazdı yani biz miras almısız...\n",
    "yönetici.departmandegistir(\"insan kaynakları\")\n",
    "#metotlarıda miras aldıgımızı yani herseyi miras aldıgımızı goruyoruz...\n"
   ]
  },
  {
   "cell_type": "code",
   "execution_count": 13,
   "metadata": {},
   "outputs": [
    {
     "name": "stdout",
     "output_type": "stream",
     "text": [
      "calısan sınıfının bilgileri.......\n",
      "isim :kaan\n",
      "Maas :3000\n",
      "Departman :insan kaynakları\n",
      "\n"
     ]
    }
   ],
   "source": [
    "yönetici.bilgilerigoster()\n",
    "#departmanımızda degisti yani tum metotları miras aldıgımızı gordukkk....\n"
   ]
  },
  {
   "cell_type": "code",
   "execution_count": 14,
   "metadata": {},
   "outputs": [
    {
     "data": {
      "text/plain": [
       "['__class__',\n",
       " '__delattr__',\n",
       " '__dict__',\n",
       " '__dir__',\n",
       " '__doc__',\n",
       " '__eq__',\n",
       " '__format__',\n",
       " '__ge__',\n",
       " '__getattribute__',\n",
       " '__gt__',\n",
       " '__hash__',\n",
       " '__init__',\n",
       " '__init_subclass__',\n",
       " '__le__',\n",
       " '__lt__',\n",
       " '__module__',\n",
       " '__ne__',\n",
       " '__new__',\n",
       " '__reduce__',\n",
       " '__reduce_ex__',\n",
       " '__repr__',\n",
       " '__setattr__',\n",
       " '__sizeof__',\n",
       " '__str__',\n",
       " '__subclasshook__',\n",
       " '__weakref__',\n",
       " 'bilgilerigoster',\n",
       " 'departman',\n",
       " 'departmandegistir',\n",
       " 'isim',\n",
       " 'maas']"
      ]
     },
     "execution_count": 14,
     "metadata": {},
     "output_type": "execute_result"
    }
   ],
   "source": [
    "dir(yönetici)"
   ]
  },
  {
   "cell_type": "code",
   "execution_count": 17,
   "metadata": {},
   "outputs": [],
   "source": [
    "class Yönetici(Calısan):\n",
    "    #simdi yukarıda bos bıraktıgımız yonetici sınıfına kendı metotlarımızı ekleyelım\n",
    "\n",
    "    def zam_yap(self,zam):\n",
    "        self.maas+=zam\n",
    "    \n",
    "    \n",
    "    "
   ]
  },
  {
   "cell_type": "code",
   "execution_count": 19,
   "metadata": {},
   "outputs": [
    {
     "name": "stdout",
     "output_type": "stream",
     "text": [
      "calısan sınıfının init fonksiyonu....\n"
     ]
    }
   ],
   "source": [
    "#yönetici sınıfından yeni bir obje olusturalım ve zam yap fonksiyonunu deneyelim.\n",
    "\n",
    "yönetici2=Yönetici(\"serhat say\",2000,\"bilgi islem\")"
   ]
  },
  {
   "cell_type": "code",
   "execution_count": 20,
   "metadata": {},
   "outputs": [],
   "source": [
    "yönetici2.zam_yap(500)"
   ]
  },
  {
   "cell_type": "code",
   "execution_count": 21,
   "metadata": {},
   "outputs": [
    {
     "name": "stdout",
     "output_type": "stream",
     "text": [
      "calısan sınıfının bilgileri.......\n",
      "isim :serhat say\n",
      "Maas :2500\n",
      "Departman :bilgi islem\n",
      "\n"
     ]
    }
   ],
   "source": [
    "#simdi bilgileri goster fonksiyonundan bakalm maas a\n",
    "yönetici2.bilgilerigoster()\n",
    "#goruldugu gıbı zam miktarı maas la guncellenmıs\n"
   ]
  },
  {
   "cell_type": "markdown",
   "metadata": {},
   "source": [
    "*********************SİMDİ DE********************\n",
    "\n",
    "\n",
    "İNHERİTANCE KONUSUNUN ONEMLI KONSEPT OLAN OVERRİDİNG E BAKALIMMM\n"
   ]
  },
  {
   "cell_type": "markdown",
   "metadata": {},
   "source": [
    "#overriding miras aldıgımız metotları kendi sınıfımızda tekrar tanımlarsak,artık metodu cagırdıgımız zaman miras aldıgımız degil kendi metodumuz calısacaktır .buna nesne tabanlı\n",
    "#programlama bir metodu override etmek denir...\n",
    "#Örnegin artık calısan sınıfının init metodunu kullanmak yerine Yönetici sınıfında init metodunu override edebiliriz..Böylelikle\n",
    "#Yönetici sınıfına ekstra özellikler (attribute) ekleyebiliriz."
   ]
  },
  {
   "cell_type": "code",
   "execution_count": 22,
   "metadata": {},
   "outputs": [],
   "source": [
    "#yeniden calısan sınıfını alalım.\n",
    "class Calısan():\n",
    "    def __init__(self,isim,maas,departman):\n",
    "        print(\"calısan sınıfının init fonksiyonu....\")\n",
    "        self.isim=isim\n",
    "        self.maas=maas\n",
    "        self.departman=departman\n",
    "        \n",
    "    def bilgilerigoster(self):\n",
    "        print(\"calısan sınıfının bilgileri.......\")\n",
    "        \n",
    "        print(\"isim :{}\\nMaas :{}\\nDepartman :{}\\n\".format(self.isim,self.maas,self.departman))\n",
    "        \n",
    "    def departmandegistir(self,yenidepartman):\n",
    "        self.departman=yenidepartman"
   ]
  },
  {
   "cell_type": "code",
   "execution_count": 23,
   "metadata": {},
   "outputs": [],
   "source": [
    "#aynı sekılde Yönetici sınıfınıda alalım..\n",
    "#simdi burada da init fonksiyonunuu tekrar tanımlıcaz cunku override edip icine eklemeleer yapıcaz..\n",
    "#cunku eger Calısan sınıfının ınıt fonksiyonunu kullanırsak ekstra fonksiyonu ekleyemıycez..\n",
    "\n",
    "class Yönetici(Calısan):\n",
    "    def __init__(self,isim,maas,departman,kisi_Sayisi):\n",
    "        print(\"yönetici  sınıfının init fonksiyonu....\")\n",
    "        self.isim=isim\n",
    "        self.maas=maas\n",
    "        self.departman=departman\n",
    "        #ama burada farklı olarak kisi sayisini da ekliyoruz.\n",
    "        #cunku kendı init fonksiyonumuzu yazıyoruz.Yönetici sınıfı icin\n",
    "        \n",
    "        self.kisi_sayisi=kisi_Sayisi\n",
    "        \n",
    "        \n",
    "    def zam_yap(self,zam):\n",
    "        self.maas+=zam\n",
    "    "
   ]
  },
  {
   "cell_type": "code",
   "execution_count": 24,
   "metadata": {},
   "outputs": [
    {
     "name": "stdout",
     "output_type": "stream",
     "text": [
      "yönetici  sınıfının init fonksiyonu....\n"
     ]
    }
   ],
   "source": [
    "#artık yönetici nesnesi(objesi olusturdugumuzda Calısan sınıfının init metodu degil\n",
    "#Yönetici sınıfının init metodu calısıcak..\n",
    "\n",
    "yönetici3=Yönetici(\"kemal\",3000,\"tasarım\",10)"
   ]
  },
  {
   "cell_type": "code",
   "execution_count": 26,
   "metadata": {},
   "outputs": [
    {
     "name": "stdout",
     "output_type": "stream",
     "text": [
      "calısan sınıfının bilgileri.......\n",
      "isim :kemal\n",
      "Maas :3000\n",
      "Departman :tasarım\n",
      "\n"
     ]
    }
   ],
   "source": [
    "#yukarıda goruldugu gıbı yonetici sınıfının init fonksiyonu yazdı yani artık\n",
    "#Yönetici sınıfının init fonksiyonu ayrı\n",
    "yönetici3.bilgilerigoster()"
   ]
  },
  {
   "cell_type": "code",
   "execution_count": 27,
   "metadata": {},
   "outputs": [],
   "source": [
    "#yukarıda goruldugu gibi biz miras aldıgımız icin ama degistirmedigimiz icin bilgileri\n",
    "#göster fonksiyonunu hala Calısan sınıfının bilgilerigoster() metodu calısıyor\n",
    "#simdi de onu override edelim...\n"
   ]
  },
  {
   "cell_type": "code",
   "execution_count": 3,
   "metadata": {},
   "outputs": [],
   "source": [
    "class Calısan():\n",
    "    def __init__(self,isim,maas,departman):\n",
    "        print(\"calısan sınıfının init fonksiyonu....\")\n",
    "        self.isim=isim\n",
    "        self.maas=maas\n",
    "        self.departman=departman\n",
    "        \n",
    "    def bilgilerigoster(self):\n",
    "        print(\"calısan sınıfının bilgileri.......\")\n",
    "        \n",
    "        print(\"isim :{}\\nMaas :{}\\nDepartman :{}\\n\".format(self.isim,self.maas,self.departman))\n",
    "        \n",
    "    def departmandegistir(self,yenidepartman):\n",
    "        self.departman=yenidepartman"
   ]
  },
  {
   "cell_type": "code",
   "execution_count": 13,
   "metadata": {},
   "outputs": [],
   "source": [
    "class Yönetici(Calısan):\n",
    "    def __init__(self,isim,maas,departman,kisi_Sayisi):\n",
    "        print(\"yönetici  sınıfının init fonksiyonu....\")\n",
    "        self.isim=isim\n",
    "        self.maas=maas\n",
    "        self.departman=departman\n",
    "    \n",
    "        \n",
    "        self.kisi_Sayisi=kisi_Sayisi\n",
    "        \n",
    "    def bilgilerigoster(self):\n",
    "        print(\"Yönetici sınıfının bilgileri.......\")\n",
    "        \n",
    "        print(\"isim :{}\\nMaas :{}\\nDepartman :{}\\nSorumlu kisi sayisi:{}\\n\".format(self.isim,self.maas,self.departman,self.kisi_Sayisi))\n",
    "    def zam_yap(self,zam):\n",
    "        self.maas+=zam"
   ]
  },
  {
   "cell_type": "code",
   "execution_count": 14,
   "metadata": {},
   "outputs": [
    {
     "name": "stdout",
     "output_type": "stream",
     "text": [
      "yönetici  sınıfının init fonksiyonu....\n"
     ]
    }
   ],
   "source": [
    "yönetici3=Yönetici(\"kemal\",3000,\"tasarım\",10)"
   ]
  },
  {
   "cell_type": "code",
   "execution_count": 16,
   "metadata": {},
   "outputs": [
    {
     "name": "stdout",
     "output_type": "stream",
     "text": [
      "Yönetici sınıfının bilgileri.......\n",
      "isim :kemal\n",
      "Maas :3000\n",
      "Departman :tasarım\n",
      "Sorumlu kisi sayisi:10\n",
      "\n"
     ]
    }
   ],
   "source": [
    "yönetici3.bilgilerigoster()\n",
    "#göruldugu gıbı bılgılerıgoster metoduda override (degistirme) edildi...\n",
    "#artık yonetici sınıfının bilgilerigoster metodu ayrı..\n"
   ]
  },
  {
   "cell_type": "markdown",
   "metadata": {},
   "source": [
    "******************************************************\n",
    "SUPER ANAHTAR KELIMESİİİİİ\n",
    "\n",
    "super anahtar kelımesı ozellıkle override ettigimiz metodun ıcınde aynı zamanda \n",
    "miras aldıgımız bir metodu kullanmak ıstersek kullanılabılır .Yani super en genel anlamkyla miras aldıgımız sınfıın metodlarını alt sınıflardan kullanmammızı saglar Hemen ornek uzerinde anlamaya calısalım.....\n",
    "\n"
   ]
  },
  {
   "cell_type": "code",
   "execution_count": 17,
   "metadata": {},
   "outputs": [],
   "source": [
    "class Calısan():\n",
    "    def __init__(self,isim,maas,departman):\n",
    "        print(\"calısan sınıfının init fonksiyonu....\")\n",
    "        self.isim=isim\n",
    "        self.maas=maas\n",
    "        self.departman=departman\n",
    "        \n",
    "    def bilgilerigoster(self):\n",
    "        print(\"calısan sınıfının bilgileri.......\")\n",
    "        \n",
    "        print(\"isim :{}\\nMaas :{}\\nDepartman :{}\\n\".format(self.isim,self.maas,self.departman))\n",
    "        \n",
    "    def departmandegistir(self,yenidepartman):\n",
    "        self.departman=yenidepartman"
   ]
  },
  {
   "cell_type": "code",
   "execution_count": 18,
   "metadata": {},
   "outputs": [],
   "source": [
    "class Yönetici(Calısan):\n",
    "    def __init__(self,isim,maas,departman,kisi_Sayisi):\n",
    "        super().__init__(isim,maas,departman)#bunu yazdıgımız ıcın artık self.isim=isim self.maas=maas  self.departman=departman\n",
    "                                             #yazmamıza gerek kalmıyor....\n",
    "\n",
    "       \n",
    "        print(\"yönetici  sınıfının init fonksiyonu....\")\n",
    "        \n",
    "    #super i burda neden kullanıyoruz cunku biz eger calısan sınıfının init fonksiyonunu degistirip kendi init i ni yazmak istiyoruz ama \n",
    "    #usttekı  self.isim=isim   ozellıklerını uzun uzun neden yazalım kısaltmak ıcın şöyle super ı kullanıyoruz yani hem kısa oluyor hemde ustteki class ın ozellıklerını dde kullanıp hemde asagisinde override etceksek daha guzel bir sekılde gorunuyor...\n",
    "              #self.maas=maas\n",
    "              #self.departman=departman\n",
    "    #yani super turettgimiz sınıftan bir metodu cagirmak ıcın kullanılıyor......\n",
    "        \n",
    "        self.kisi_Sayisi=kisi_Sayisi\n",
    "        \n",
    "    def bilgilerigoster(self):\n",
    "        print(\"Yönetici sınıfının bilgileri.......\")\n",
    "        \n",
    "        print(\"isim :{}\\nMaas :{}\\nDepartman :{}\\nSorumlu kisi sayisi:{}\\n\".format(self.isim,self.maas,self.departman,self.kisi_Sayisi))\n",
    "    def zam_yap(self,zam):\n",
    "        self.maas+=zam"
   ]
  },
  {
   "cell_type": "code",
   "execution_count": 21,
   "metadata": {},
   "outputs": [
    {
     "name": "stdout",
     "output_type": "stream",
     "text": [
      "calısan sınıfının init fonksiyonu....\n",
      "yönetici  sınıfının init fonksiyonu....\n"
     ]
    }
   ],
   "source": [
    "yönetici4=Yönetici(\"oguz artıran\",3000,\"bilisim\",20)\n",
    "#goruldugu gibi bu sefer hem calısan sınıfının ınıt fonksiyonu hemde yönetici sınıfının ınıt fonksiyonu calıstı yani super\n",
    "#anahtar kelımesi ile turettgimiz sınıfında ınıt fonksiyonunuda cagirmis oldukk...\n",
    "#yani yonetici4 nesnesi yine 4 ozellıge sahip oldu....."
   ]
  },
  {
   "cell_type": "code",
   "execution_count": 22,
   "metadata": {},
   "outputs": [
    {
     "name": "stdout",
     "output_type": "stream",
     "text": [
      "Yönetici sınıfının bilgileri.......\n",
      "isim :oguz artıran\n",
      "Maas :3000\n",
      "Departman :bilisim\n",
      "Sorumlu kisi sayisi:20\n",
      "\n"
     ]
    }
   ],
   "source": [
    "yönetici4.bilgilerigoster()"
   ]
  },
  {
   "cell_type": "code",
   "execution_count": null,
   "metadata": {},
   "outputs": [],
   "source": []
  }
 ],
 "metadata": {
  "kernelspec": {
   "display_name": "Python 3",
   "language": "python",
   "name": "python3"
  },
  "language_info": {
   "codemirror_mode": {
    "name": "ipython",
    "version": 3
   },
   "file_extension": ".py",
   "mimetype": "text/x-python",
   "name": "python",
   "nbconvert_exporter": "python",
   "pygments_lexer": "ipython3",
   "version": "3.6.5"
  }
 },
 "nbformat": 4,
 "nbformat_minor": 2
}
