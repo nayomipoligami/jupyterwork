{
 "cells": [
  {
   "cell_type": "code",
   "execution_count": 35,
   "metadata": {},
   "outputs": [],
   "source": [
    "class yazilimci():\n",
    "    \n",
    "    def __init__(self,isim,soyisim,numara,maas,bildigi_diller):\n",
    "        self.isim=isim\n",
    "        self.soyisim=soyisim\n",
    "        self.numara=numara\n",
    "        self.maas=maas\n",
    "        self.bildigi_diller=bildigi_diller\n",
    "    #obje ile ilgili kendi metotlarımızı tanımlarken ilk parametre kesinlikle self olmalı\n",
    "    #onceden yaptıgımız diger metotlardan baska farkı yok.\n",
    "    def bilgileri_goster(self):\n",
    "        print(\"\"\"\n",
    "        Yazılımcı objesinin ozellikleri\n",
    "        \n",
    "        isim :{}\n",
    "        \n",
    "        soyisim :{}\n",
    "        \n",
    "        numara:{}\n",
    "        \n",
    "        maas:{}\n",
    "        \n",
    "        bildigi_diller:{}\n",
    "        \n",
    "        \n",
    "        \n",
    "        \"\"\".format(self.isim,self.soyisim,self.numara,self.maas,self.bildigi_diller))\n",
    "    \n",
    "    def zam_ekle(self,zam_miktarı):\n",
    "        \n",
    "        print(\"zam yapiliyor.....\")\n",
    "        \n",
    "        self.maas+=zam_miktarı\n",
    "    def dil_ekle(self,yeni_dil):\n",
    "        print(\"dil ekleniyor...\")\n",
    "        \n",
    "        self.bildigi_diller.append(yeni_dil)\n",
    "        \n",
    "        \n"
   ]
  },
  {
   "cell_type": "code",
   "execution_count": 36,
   "metadata": {},
   "outputs": [],
   "source": [
    "yazilimci1=yazilimci(\"kaan\",\"kızılırmak\",199,10000,[\"python\",\"java\"])"
   ]
  },
  {
   "cell_type": "code",
   "execution_count": 37,
   "metadata": {},
   "outputs": [
    {
     "data": {
      "text/plain": [
       "<__main__.yazilimci at 0x18e1a9cfa58>"
      ]
     },
     "execution_count": 37,
     "metadata": {},
     "output_type": "execute_result"
    }
   ],
   "source": [
    "yazilimci1"
   ]
  },
  {
   "cell_type": "code",
   "execution_count": 38,
   "metadata": {},
   "outputs": [
    {
     "name": "stdout",
     "output_type": "stream",
     "text": [
      "\n",
      "        Yazılımcı objesinin ozellikleri\n",
      "        \n",
      "        isim :kaan\n",
      "        \n",
      "        soyisim :kızılırmak\n",
      "        \n",
      "        numara:199\n",
      "        \n",
      "        maas:10000\n",
      "        \n",
      "        bildigi_diller:['python', 'java']\n",
      "        \n",
      "        \n",
      "        \n",
      "        \n"
     ]
    }
   ],
   "source": [
    "yazilimci1.bilgileri_goster()"
   ]
  },
  {
   "cell_type": "code",
   "execution_count": 39,
   "metadata": {},
   "outputs": [
    {
     "name": "stdout",
     "output_type": "stream",
     "text": [
      "zam yapiliyor.....\n"
     ]
    }
   ],
   "source": [
    "#simdi sonradan olusturdugumuz zam_ekle ve dil_ekle fonksiyonlarını deneyelım\n",
    "\n",
    "yazilimci1.zam_ekle(500)\n",
    "\n",
    "\n"
   ]
  },
  {
   "cell_type": "code",
   "execution_count": 41,
   "metadata": {},
   "outputs": [
    {
     "name": "stdout",
     "output_type": "stream",
     "text": [
      "\n",
      "        Yazılımcı objesinin ozellikleri\n",
      "        \n",
      "        isim :kaan\n",
      "        \n",
      "        soyisim :kızılırmak\n",
      "        \n",
      "        numara:199\n",
      "        \n",
      "        maas:10500\n",
      "        \n",
      "        bildigi_diller:['python', 'java']\n",
      "        \n",
      "        \n",
      "        \n",
      "        \n"
     ]
    }
   ],
   "source": [
    "yazilimci1.bilgileri_goster()#asagida goruldugu gıbı zam mıktarı maasa eklendi maas guncellendi...\n"
   ]
  },
  {
   "cell_type": "code",
   "execution_count": 43,
   "metadata": {},
   "outputs": [
    {
     "name": "stdout",
     "output_type": "stream",
     "text": [
      "dil ekleniyor...\n"
     ]
    }
   ],
   "source": [
    "#simdi ise dil_ekle fonksiyonunu kullanalım..\n",
    "\n",
    "yazilimci1.dil_ekle(\"golang\")"
   ]
  },
  {
   "cell_type": "code",
   "execution_count": 45,
   "metadata": {},
   "outputs": [
    {
     "name": "stdout",
     "output_type": "stream",
     "text": [
      "\n",
      "        Yazılımcı objesinin ozellikleri\n",
      "        \n",
      "        isim :kaan\n",
      "        \n",
      "        soyisim :kızılırmak\n",
      "        \n",
      "        numara:199\n",
      "        \n",
      "        maas:10500\n",
      "        \n",
      "        bildigi_diller:['python', 'java', 'golang']\n",
      "        \n",
      "        \n",
      "        \n",
      "        \n"
     ]
    }
   ],
   "source": [
    "yazilimci1.bilgileri_goster()#asagida goruldugu gıbı bildigi diller listemize golang dili eklendi listemiz güncellendi...\n"
   ]
  },
  {
   "cell_type": "code",
   "execution_count": null,
   "metadata": {},
   "outputs": [],
   "source": []
  },
  {
   "cell_type": "code",
   "execution_count": null,
   "metadata": {},
   "outputs": [],
   "source": []
  },
  {
   "cell_type": "code",
   "execution_count": null,
   "metadata": {},
   "outputs": [],
   "source": []
  },
  {
   "cell_type": "code",
   "execution_count": null,
   "metadata": {},
   "outputs": [],
   "source": []
  },
  {
   "cell_type": "code",
   "execution_count": null,
   "metadata": {},
   "outputs": [],
   "source": []
  },
  {
   "cell_type": "code",
   "execution_count": null,
   "metadata": {},
   "outputs": [],
   "source": []
  },
  {
   "cell_type": "code",
   "execution_count": null,
   "metadata": {},
   "outputs": [],
   "source": []
  },
  {
   "cell_type": "code",
   "execution_count": 20,
   "metadata": {},
   "outputs": [],
   "source": [
    "class Yazılımcı():\n",
    "    \n",
    "    def __init__(self,isim,soyisim,numara,maaş,diller):\n",
    "        self.isim = isim\n",
    "        self.soyisim = soyisim\n",
    "        self.numara = numara\n",
    "        self.maaş = maaş\n",
    "        self.diller = diller\n",
    "    def bilgilerigöster(self):\n",
    "        print(\"\"\"\n",
    "        Yazılımcı objesinin özellikleri\n",
    "        \n",
    "        İsim : {}\n",
    "        \n",
    "        Soyisim : {}\n",
    "        \n",
    "        Numara: {}\n",
    "        \n",
    "        Maaş : {}\n",
    "        \n",
    "        Bildiği Diller : {}\n",
    "        \n",
    "        \"\"\".format(self.isim,self.soyisim,self.numara,self.maaş,self.diller))\n"
   ]
  },
  {
   "cell_type": "code",
   "execution_count": 24,
   "metadata": {},
   "outputs": [],
   "source": [
    "yazılımcı = Yazılımcı(\"Mustafa Murat\",\"Coşkun\",12345,3000,[\"Python\",\"Java\",\"C\",\"Javascript\"])\n"
   ]
  },
  {
   "cell_type": "code",
   "execution_count": 25,
   "metadata": {},
   "outputs": [
    {
     "name": "stdout",
     "output_type": "stream",
     "text": [
      "\n",
      "        Yazılımcı objesinin özellikleri\n",
      "        \n",
      "        İsim : Mustafa Murat\n",
      "        \n",
      "        Soyisim : Coşkun\n",
      "        \n",
      "        Numara: 12345\n",
      "        \n",
      "        Maaş : 3000\n",
      "        \n",
      "        Bildiği Diller : ['Python', 'Java', 'C', 'Javascript']\n",
      "        \n",
      "        \n"
     ]
    }
   ],
   "source": [
    "yazılımcı.bilgilerigöster()"
   ]
  },
  {
   "cell_type": "code",
   "execution_count": null,
   "metadata": {},
   "outputs": [],
   "source": []
  },
  {
   "cell_type": "code",
   "execution_count": null,
   "metadata": {},
   "outputs": [],
   "source": []
  },
  {
   "cell_type": "code",
   "execution_count": null,
   "metadata": {},
   "outputs": [],
   "source": []
  },
  {
   "cell_type": "code",
   "execution_count": null,
   "metadata": {},
   "outputs": [],
   "source": []
  },
  {
   "cell_type": "code",
   "execution_count": null,
   "metadata": {},
   "outputs": [],
   "source": []
  },
  {
   "cell_type": "code",
   "execution_count": null,
   "metadata": {},
   "outputs": [],
   "source": []
  }
 ],
 "metadata": {
  "kernelspec": {
   "display_name": "Python 3",
   "language": "python",
   "name": "python3"
  },
  "language_info": {
   "codemirror_mode": {
    "name": "ipython",
    "version": 3
   },
   "file_extension": ".py",
   "mimetype": "text/x-python",
   "name": "python",
   "nbconvert_exporter": "python",
   "pygments_lexer": "ipython3",
   "version": "3.6.5"
  }
 },
 "nbformat": 4,
 "nbformat_minor": 2
}
