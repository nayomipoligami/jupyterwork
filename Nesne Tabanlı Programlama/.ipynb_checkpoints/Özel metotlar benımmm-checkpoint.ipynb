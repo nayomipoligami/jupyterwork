{
 "cells": [
  {
   "cell_type": "code",
   "execution_count": 4,
   "metadata": {},
   "outputs": [],
   "source": [
    "class Kitap():\n",
    "    pass\n",
    "#sonradan tanımlıcagımızı soyluyoruz. pass terimi ile biliyosun...\n"
   ]
  },
  {
   "cell_type": "code",
   "execution_count": 12,
   "metadata": {},
   "outputs": [],
   "source": [
    "kitap=Kitap() ## __init__ metodu"
   ]
  },
  {
   "cell_type": "code",
   "execution_count": 13,
   "metadata": {},
   "outputs": [
    {
     "name": "stdout",
     "output_type": "stream",
     "text": [
      "<__main__.Kitap object at 0x000002178D18D208>\n"
     ]
    }
   ],
   "source": [
    "print(kitap) ## __str__ metodu\n"
   ]
  },
  {
   "cell_type": "code",
   "execution_count": 14,
   "metadata": {},
   "outputs": [
    {
     "ename": "TypeError",
     "evalue": "object of type 'Kitap' has no len()",
     "output_type": "error",
     "traceback": [
      "\u001b[1;31m---------------------------------------------------------------------------\u001b[0m",
      "\u001b[1;31mTypeError\u001b[0m                                 Traceback (most recent call last)",
      "\u001b[1;32m<ipython-input-14-f6ed7aed7f69>\u001b[0m in \u001b[0;36m<module>\u001b[1;34m()\u001b[0m\n\u001b[1;32m----> 1\u001b[1;33m \u001b[0mlen\u001b[0m\u001b[1;33m(\u001b[0m\u001b[0mkitap\u001b[0m\u001b[1;33m)\u001b[0m\u001b[1;33m\u001b[0m\u001b[0m\n\u001b[0m",
      "\u001b[1;31mTypeError\u001b[0m: object of type 'Kitap' has no len()"
     ]
    }
   ],
   "source": [
    "len(kitap)"
   ]
  },
  {
   "cell_type": "code",
   "execution_count": 15,
   "metadata": {},
   "outputs": [],
   "source": [
    "del kitap #del anahtar kelimesi bir tane objeyi silmemizi sagliyor...\n"
   ]
  },
  {
   "cell_type": "code",
   "execution_count": 18,
   "metadata": {},
   "outputs": [
    {
     "ename": "NameError",
     "evalue": "name 'kitap' is not defined",
     "output_type": "error",
     "traceback": [
      "\u001b[1;31m---------------------------------------------------------------------------\u001b[0m",
      "\u001b[1;31mNameError\u001b[0m                                 Traceback (most recent call last)",
      "\u001b[1;32m<ipython-input-18-2255e3f4cf89>\u001b[0m in \u001b[0;36m<module>\u001b[1;34m()\u001b[0m\n\u001b[1;32m----> 1\u001b[1;33m \u001b[0mkitap\u001b[0m \u001b[1;31m#gorundugu gıbı kıtap objesi artık yok.....\u001b[0m\u001b[1;33m\u001b[0m\u001b[0m\n\u001b[0m",
      "\u001b[1;31mNameError\u001b[0m: name 'kitap' is not defined"
     ]
    }
   ],
   "source": [
    "kitap #gorundugu gıbı kıtap objesi artık yok....."
   ]
  },
  {
   "cell_type": "code",
   "execution_count": 19,
   "metadata": {},
   "outputs": [],
   "source": [
    "#kendi init metodumuzu yazalım...\n",
    "    \n",
    "class Kitap():\n",
    "    def __init__(self,isim,yazar,sayfa_Sayisi,tür):\n",
    "        print(\"init fonksiyonu...\")\n",
    "        self.isim=isim\n",
    "        self.yazar=yazar\n",
    "        self.sayfa_Sayisi=sayfa_Sayisi\n",
    "        self.tür=tür\n",
    "        \n",
    "        "
   ]
  },
  {
   "cell_type": "code",
   "execution_count": 20,
   "metadata": {},
   "outputs": [
    {
     "name": "stdout",
     "output_type": "stream",
     "text": [
      "init fonksiyonu...\n"
     ]
    }
   ],
   "source": [
    "kitap=Kitap(\"İstanbul Hatırası\",\"ahmet ümit\",561,\"polisiye\")"
   ]
  },
  {
   "cell_type": "code",
   "execution_count": 23,
   "metadata": {},
   "outputs": [],
   "source": [
    "#kendi str metodumuzu yazalım....str metodu ekrana yazı yazmamızı sagliyor...\n",
    "\n",
    "\n",
    "class Kitap():\n",
    "    def __init__(self,isim,yazar,sayfa_Sayisi,tür):\n",
    "        print(\"init fonksiyonu...\")\n",
    "        self.isim=isim\n",
    "        self.yazar=yazar\n",
    "        self.sayfa_Sayisi=sayfa_Sayisi\n",
    "        self.tür=tür\n",
    "    def __str__(self):\n",
    "        return \"isim :{}\\nYazar :{}\\nsayfasayisi: {}\\ntür : {}\\n\".format(self.isim,self.yazar,self.sayfa_Sayisi,self.tür)"
   ]
  },
  {
   "cell_type": "code",
   "execution_count": 24,
   "metadata": {},
   "outputs": [
    {
     "name": "stdout",
     "output_type": "stream",
     "text": [
      "init fonksiyonu...\n"
     ]
    }
   ],
   "source": [
    "kitap1=Kitap(\"gezmeler\",\"ahmet ümit\",561,\"cinayet\")"
   ]
  },
  {
   "cell_type": "code",
   "execution_count": 27,
   "metadata": {},
   "outputs": [
    {
     "name": "stdout",
     "output_type": "stream",
     "text": [
      "isim :gezmeler\n",
      "Yazar :ahmet ümit\n",
      "sayfasayisi: 561\n",
      "tür : cinayet\n",
      "\n"
     ]
    }
   ],
   "source": [
    "print(kitap1)#gordugumuz gıbı kendi metodumuzu yazmıs olduk kendı str metodumuzu yani..."
   ]
  },
  {
   "cell_type": "code",
   "execution_count": 28,
   "metadata": {},
   "outputs": [],
   "source": [
    "#kendi len fonksiyonumuzu yazalım...\n"
   ]
  },
  {
   "cell_type": "code",
   "execution_count": 29,
   "metadata": {},
   "outputs": [],
   "source": [
    "class Kitap():\n",
    "    def __init__(self,isim,yazar,sayfa_Sayisi,tür):\n",
    "        print(\"init fonksiyonu...\")\n",
    "        self.isim=isim\n",
    "        self.yazar=yazar\n",
    "        self.sayfa_Sayisi=sayfa_Sayisi\n",
    "        self.tür=tür\n",
    "    def __str__(self):\n",
    "        return \"isim :{}\\nYazar :{}\\nsayfasayisi: {}\\ntür : {}\\n\".format(self.isim,self.yazar,self.sayfa_Sayisi,self.tür)\n",
    "    def __len__(self):\n",
    "        return self.sayfa_Sayisi\n",
    "    "
   ]
  },
  {
   "cell_type": "code",
   "execution_count": 31,
   "metadata": {},
   "outputs": [
    {
     "name": "stdout",
     "output_type": "stream",
     "text": [
      "init fonksiyonu...\n"
     ]
    }
   ],
   "source": [
    "kitap1=Kitap(\"gezmeler\",\"ahmet ümit\",561,\"cinayet\")"
   ]
  },
  {
   "cell_type": "code",
   "execution_count": 33,
   "metadata": {},
   "outputs": [
    {
     "data": {
      "text/plain": [
       "561"
      ]
     },
     "execution_count": 33,
     "metadata": {},
     "output_type": "execute_result"
    }
   ],
   "source": [
    "len(kitap1)#yukarıda len metodu yok diye hata vermıstı bu sefer bız yazınca oldu...\n"
   ]
  },
  {
   "cell_type": "code",
   "execution_count": 35,
   "metadata": {},
   "outputs": [],
   "source": [
    "#ama biz sımdı eger del metodunu bastan yazmaya calısırsak pythonda yazılı olan del metodunun yerine gecmıcek\n",
    "#ama biz del metoduna  ozellıkler ekleyebiliriz...\n",
    "#cunku del metodu cok ozel bır metod\n",
    "\n",
    "\n",
    "class Kitap():\n",
    "    def __init__(self,isim,yazar,sayfa_Sayisi,tür):\n",
    "        print(\"init fonksiyonu...\")\n",
    "        self.isim=isim\n",
    "        self.yazar=yazar\n",
    "        self.sayfa_Sayisi=sayfa_Sayisi\n",
    "        self.tür=tür\n",
    "    def __str__(self):\n",
    "        return \"isim :{}\\nYazar :{}\\nsayfasayisi: {}\\ntür : {}\\n\".format(self.isim,self.yazar,self.sayfa_Sayisi,self.tür)\n",
    "    def __len__(self):\n",
    "        return self.sayfa_Sayisi\n",
    "    def __del__(self):\n",
    "        print(\"kitap objesi siliniyor..\")"
   ]
  },
  {
   "cell_type": "code",
   "execution_count": 39,
   "metadata": {},
   "outputs": [
    {
     "name": "stdout",
     "output_type": "stream",
     "text": [
      "init fonksiyonu...\n"
     ]
    }
   ],
   "source": [
    "kitap1=Kitap(\"gezmeler\",\"ahmet ümit\",561,\"cinayet\")"
   ]
  },
  {
   "cell_type": "code",
   "execution_count": 40,
   "metadata": {},
   "outputs": [
    {
     "name": "stdout",
     "output_type": "stream",
     "text": [
      "kitap objesi siliniyor..\n"
     ]
    }
   ],
   "source": [
    "del kitap1 #gordugumuz gıbı metodumuza ekstra ozellık eklems olduk\n"
   ]
  },
  {
   "cell_type": "code",
   "execution_count": 42,
   "metadata": {},
   "outputs": [
    {
     "ename": "SyntaxError",
     "evalue": "invalid syntax (<ipython-input-42-bb7397223ed9>, line 1)",
     "output_type": "error",
     "traceback": [
      "\u001b[1;36m  File \u001b[1;32m\"<ipython-input-42-bb7397223ed9>\"\u001b[1;36m, line \u001b[1;32m1\u001b[0m\n\u001b[1;33m    site linkii diger ozel metodların nasıl yazıldıgına dair....\u001b[0m\n\u001b[1;37m              ^\u001b[0m\n\u001b[1;31mSyntaxError\u001b[0m\u001b[1;31m:\u001b[0m invalid syntax\n"
     ]
    }
   ],
   "source": [
    "site linkii diger ozel metodların nasıl yazıldıgına dair....\n",
    "\n",
    "\n",
    "www.diveintopython3.net #bu site onemli............"
   ]
  },
  {
   "cell_type": "code",
   "execution_count": null,
   "metadata": {},
   "outputs": [],
   "source": []
  }
 ],
 "metadata": {
  "kernelspec": {
   "display_name": "Python 3",
   "language": "python",
   "name": "python3"
  },
  "language_info": {
   "codemirror_mode": {
    "name": "ipython",
    "version": 3
   },
   "file_extension": ".py",
   "mimetype": "text/x-python",
   "name": "python",
   "nbconvert_exporter": "python",
   "pygments_lexer": "ipython3",
   "version": "3.6.5"
  }
 },
 "nbformat": 4,
 "nbformat_minor": 2
}
