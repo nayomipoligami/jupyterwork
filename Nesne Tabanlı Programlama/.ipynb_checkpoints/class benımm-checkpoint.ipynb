{
 "cells": [
  {
   "cell_type": "code",
   "execution_count": 1,
   "metadata": {},
   "outputs": [
    {
     "data": {
      "text/plain": [
       "<__main__.araba at 0x220b6f0cc50>"
      ]
     },
     "execution_count": 1,
     "metadata": {},
     "output_type": "execute_result"
    }
   ],
   "source": [
    "class araba():\n",
    "    model=\"renault megan\"\n",
    "    renk=\"gümüs\"\n",
    "    beygir_gücü=110\n",
    "    silindir=4\n",
    "    \n",
    "    \n",
    "    \n",
    "\n",
    "\n",
    "araba1=araba()\n",
    "#bu sınıftan bir araba1 objesini oluşturuyoruz...\n",
    "#bir classtan obje uretmek bu sekılde oluyor....\n",
    "araba1\n"
   ]
  },
  {
   "cell_type": "code",
   "execution_count": 3,
   "metadata": {},
   "outputs": [],
   "source": [
    "araba2=araba()"
   ]
  },
  {
   "cell_type": "code",
   "execution_count": 4,
   "metadata": {},
   "outputs": [
    {
     "data": {
      "text/plain": [
       "<__main__.araba at 0x220b6f2f668>"
      ]
     },
     "execution_count": 4,
     "metadata": {},
     "output_type": "execute_result"
    }
   ],
   "source": [
    "araba2"
   ]
  },
  {
   "cell_type": "code",
   "execution_count": 8,
   "metadata": {},
   "outputs": [
    {
     "data": {
      "text/plain": [
       "110"
      ]
     },
     "execution_count": 8,
     "metadata": {},
     "output_type": "execute_result"
    }
   ],
   "source": [
    "#peki biz bu olusturdugumuz objenın classtan aldıgı ozellıklerıne \n",
    "#nasıl erisiyoruz aynen asagıdakı gıbı\n",
    "\n",
    "araba1.beygir_gücü"
   ]
  },
  {
   "cell_type": "code",
   "execution_count": 9,
   "metadata": {},
   "outputs": [
    {
     "data": {
      "text/plain": [
       "'renault megan'"
      ]
     },
     "execution_count": 9,
     "metadata": {},
     "output_type": "execute_result"
    }
   ],
   "source": [
    "araba1.model"
   ]
  },
  {
   "cell_type": "code",
   "execution_count": 6,
   "metadata": {},
   "outputs": [
    {
     "name": "stdout",
     "output_type": "stream",
     "text": [
      "n\n",
      "while bitti....\n",
      "\n",
      "naber kocum\n",
      "for loop bitti....\n",
      "\n"
     ]
    }
   ],
   "source": [
    "#hatırlatma\n",
    "s=\"naber kocum\"\n",
    "i=s[0]\n",
    "while i<s[::]:\n",
    "    print(i)\n",
    "\n",
    "    break\n",
    "    \n",
    "    \n",
    "    \n",
    "print(\"while bitti....\\n\")    \n",
    "for j in s[::]:\n",
    "    print(j,end=\"\")\n",
    "print(\"\\nfor loop bitti....\\n\")    \n",
    "    \n",
    "\n"
   ]
  },
  {
   "cell_type": "code",
   "execution_count": 6,
   "metadata": {},
   "outputs": [
    {
     "data": {
      "text/plain": [
       "110"
      ]
     },
     "execution_count": 6,
     "metadata": {},
     "output_type": "execute_result"
    }
   ],
   "source": [
    "araba2=araba()\n",
    "araba2.beygir_gücü\n"
   ]
  },
  {
   "cell_type": "code",
   "execution_count": 8,
   "metadata": {},
   "outputs": [
    {
     "data": {
      "text/plain": [
       "4"
      ]
     },
     "execution_count": 8,
     "metadata": {},
     "output_type": "execute_result"
    }
   ],
   "source": [
    "#eger biz direk classtan o class ın ozellıklerıne erisiceksekte aynı\n",
    "araba.silindir"
   ]
  },
  {
   "cell_type": "code",
   "execution_count": 9,
   "metadata": {},
   "outputs": [
    {
     "name": "stdout",
     "output_type": "stream",
     "text": [
      "init fonksiyonu cagrildi....\n"
     ]
    }
   ],
   "source": [
    "class araba():\n",
    "    model=\"renault megan\"\n",
    "    renk=\"gümüs\"\n",
    "    beygir_gücü=110\n",
    "    silindir=4\n",
    "    def __init__(self):\n",
    "        print(\"init fonksiyonu cagrildi....\")\n",
    "araba1=araba()"
   ]
  },
  {
   "cell_type": "code",
   "execution_count": 44,
   "metadata": {},
   "outputs": [
    {
     "name": "stdout",
     "output_type": "stream",
     "text": [
      "1\n",
      "2\n",
      "3\n",
      "4\n",
      "5\n",
      "6\n",
      "7\n",
      "8\n",
      "9\n"
     ]
    }
   ],
   "source": [
    "#hatırlatma\n",
    "\n",
    "liste = [(1,2,3),(4,5,6,7),(8,9)]\n",
    "for i in range(0,len(liste)):\n",
    "    for  k in liste[i]:\n",
    "        print(k)\n",
    "\n",
    "    \n",
    "   "
   ]
  },
  {
   "cell_type": "code",
   "execution_count": 1,
   "metadata": {},
   "outputs": [
    {
     "data": {
      "text/plain": [
       "<__main__.araba11 at 0x278ab7ecd30>"
      ]
     },
     "execution_count": 1,
     "metadata": {},
     "output_type": "execute_result"
    }
   ],
   "source": [
    "#devammmm\n",
    "class araba11():\n",
    "    model=\"porcshe\"\n",
    "    sene=1988\n",
    "    isim=\"zühtü\"\n",
    "    \n",
    "araba22=araba11()\n",
    "araba22"
   ]
  },
  {
   "cell_type": "code",
   "execution_count": 2,
   "metadata": {},
   "outputs": [
    {
     "data": {
      "text/plain": [
       "'porcshe'"
      ]
     },
     "execution_count": 2,
     "metadata": {},
     "output_type": "execute_result"
    }
   ],
   "source": [
    "araba22.model"
   ]
  },
  {
   "cell_type": "code",
   "execution_count": 3,
   "metadata": {},
   "outputs": [
    {
     "data": {
      "text/plain": [
       "1988"
      ]
     },
     "execution_count": 3,
     "metadata": {},
     "output_type": "execute_result"
    }
   ],
   "source": [
    "araba22.sene"
   ]
  },
  {
   "cell_type": "code",
   "execution_count": 4,
   "metadata": {},
   "outputs": [
    {
     "data": {
      "text/plain": [
       "'zühtü'"
      ]
     },
     "execution_count": 4,
     "metadata": {},
     "output_type": "execute_result"
    }
   ],
   "source": [
    "araba22.isim"
   ]
  },
  {
   "cell_type": "code",
   "execution_count": 6,
   "metadata": {},
   "outputs": [
    {
     "name": "stdout",
     "output_type": "stream",
     "text": [
      "init fonksiyonu cagrildi...\n"
     ]
    }
   ],
   "source": [
    "#init fonksiyonu(yani constructor )kullanımıııı\n",
    "class araba11():\n",
    "    model=\"porcshe\"\n",
    "    sene=1988\n",
    "    isim=\"zühtü\"\n",
    "    def __init__(self):\n",
    "        print(\"init fonksiyonu cagrildi...\")\n",
    "        \n",
    "araba222=araba11()\n",
    "        \n"
   ]
  },
  {
   "cell_type": "code",
   "execution_count": 7,
   "metadata": {},
   "outputs": [],
   "source": [
    "##########yukarıdaki fonksiuyonda self in anlamı ne bakalım...\n",
    "#self anahtar kelimesi objeyi olusturdugumuzda objeyi gosteren br referans\n",
    "#ve bundan sonra her islemimizi self le kullanmammız gerekiyo...\n",
    "#yani artık objenon ozellıklerınıde self anahtar kelımesı ıle kulllanıcaz.\n",
    "\n",
    "#__init__ fonksiyonunu neden tekrar tanımlayalım ?\n",
    "#Tanımlamazsan obje oluştururken değer gönderemezsin."
   ]
  },
  {
   "cell_type": "code",
   "execution_count": 8,
   "metadata": {},
   "outputs": [],
   "source": [
    "#sımdı artık bız kendı degerlerımıze gore kendı objelerımızı uretmeye baslayabılırız\n",
    "\n",
    "class motor():\n",
    "    #init fonksiyonuna parametre vericez..\n",
    "    def __init__(self,model,renk,beygir_gücü,silindir):\n",
    "        print(\"init fonksiyonu cagrildi...\")\n",
    "        #simdi yapcagımız islemler kullanıcının girdigine gore obje olusturabilmek icin ... \n",
    "        #self anahtar kelimesi ile özellikleri olusturmamız lazım...\n",
    "        \n",
    "        self.model=model\n",
    "        self.renk=renk\n",
    "        self.beygir_gücü=beygir_gücü\n",
    "        self.silindir=silindir\n",
    "        \n",
    "    "
   ]
  },
  {
   "cell_type": "code",
   "execution_count": 10,
   "metadata": {},
   "outputs": [
    {
     "name": "stdout",
     "output_type": "stream",
     "text": [
      "init fonksiyonu cagrildi...\n"
     ]
    }
   ],
   "source": [
    "#burada bu objeyi nasıl cagiricagimizi goruyoruz.verdigiimiz parametrelerin\n",
    "#degerlerini vericez..\n",
    "motor1=motor(\"renault megan\",\"gümüs\",110,4)\n",
    "#objemiz olusmus oldu..........!!!!!!!!!!!!!!!!!!"
   ]
  },
  {
   "cell_type": "code",
   "execution_count": 13,
   "metadata": {},
   "outputs": [
    {
     "name": "stdout",
     "output_type": "stream",
     "text": [
      "init fonksiyonu cagrildi...\n"
     ]
    }
   ],
   "source": [
    "#2. objemizi olusturuyoruz....\n",
    "motor2=motor(\"kasgai\",\"kahverengi\",111,3)\n",
    "\n"
   ]
  },
  {
   "cell_type": "code",
   "execution_count": 12,
   "metadata": {},
   "outputs": [
    {
     "data": {
      "text/plain": [
       "'renault megan'"
      ]
     },
     "execution_count": 12,
     "metadata": {},
     "output_type": "execute_result"
    }
   ],
   "source": [
    "motor1.model"
   ]
  },
  {
   "cell_type": "code",
   "execution_count": 14,
   "metadata": {},
   "outputs": [
    {
     "data": {
      "text/plain": [
       "'kasgai'"
      ]
     },
     "execution_count": 14,
     "metadata": {},
     "output_type": "execute_result"
    }
   ],
   "source": [
    "motor2.model"
   ]
  },
  {
   "cell_type": "code",
   "execution_count": 9,
   "metadata": {},
   "outputs": [],
   "source": [
    "\n",
    "#bu sefer tum ozellıklerını vermeden de olusturabiliriz...\n",
    "\n",
    "class traktor():\n",
    "    #init fonksiyonuna parametre vericez..\n",
    "    def __init__(self,model= \"bilgi yok\" ,renk= \"bilgi yok\" ,beygir_gücü=11111 ,silindir=5):\n",
    "        print(\"init fonksiyonu cagrildi...\")\n",
    "        #simdi yapcagımız islemler kullanıcının girdigine gore obje olusturabilmek icin ... \n",
    "        #self anahtar kelimesi ile özellikleri olusturmamız lazım...\n",
    "        \n",
    "        self.model=model\n",
    "        self.renk=renk\n",
    "        self.beygir_gücü=beygir_gücü\n",
    "        self.silindir=silindir\n",
    "#burada onemlı bır nokta var eger varsayılan deger vericeksen yukarda\n",
    "#hepsine vermen gerekiyo yoksa hata alırsın default degerler birbirini takip etmeli\n",
    "#tarzında bir hata.......!!!!!!!!!!!!!!!!!!!!!!!!!!!!!!111\n"
   ]
  },
  {
   "cell_type": "code",
   "execution_count": 6,
   "metadata": {},
   "outputs": [
    {
     "name": "stdout",
     "output_type": "stream",
     "text": [
      "init fonksiyonu cagrildi...\n"
     ]
    },
    {
     "data": {
      "text/plain": [
       "5"
      ]
     },
     "execution_count": 6,
     "metadata": {},
     "output_type": "execute_result"
    }
   ],
   "source": [
    "#simdi bu sınıftan bir nesne olusturalim..\n",
    "traktor2=traktor(beygir_gücü=199)\n",
    "\n",
    "\n"
   ]
  },
  {
   "cell_type": "code",
   "execution_count": 7,
   "metadata": {},
   "outputs": [
    {
     "data": {
      "text/plain": [
       "5"
      ]
     },
     "execution_count": 7,
     "metadata": {},
     "output_type": "execute_result"
    }
   ],
   "source": [
    "traktor2.silindir\n"
   ]
  },
  {
   "cell_type": "code",
   "execution_count": 8,
   "metadata": {},
   "outputs": [
    {
     "data": {
      "text/plain": [
       "'bilgi yok'"
      ]
     },
     "execution_count": 8,
     "metadata": {},
     "output_type": "execute_result"
    }
   ],
   "source": [
    "traktor2.model"
   ]
  },
  {
   "cell_type": "code",
   "execution_count": null,
   "metadata": {},
   "outputs": [],
   "source": []
  },
  {
   "cell_type": "code",
   "execution_count": null,
   "metadata": {},
   "outputs": [],
   "source": []
  }
 ],
 "metadata": {
  "kernelspec": {
   "display_name": "Python 3",
   "language": "python",
   "name": "python3"
  },
  "language_info": {
   "codemirror_mode": {
    "name": "ipython",
    "version": 3
   },
   "file_extension": ".py",
   "mimetype": "text/x-python",
   "name": "python",
   "nbconvert_exporter": "python",
   "pygments_lexer": "ipython3",
   "version": "3.6.5"
  }
 },
 "nbformat": 4,
 "nbformat_minor": 2
}
