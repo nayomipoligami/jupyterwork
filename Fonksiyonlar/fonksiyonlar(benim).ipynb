{
 "cells": [
  {
   "cell_type": "code",
   "execution_count": 1,
   "metadata": {},
   "outputs": [
    {
     "name": "stdout",
     "output_type": "stream",
     "text": [
      "lutfen kaca kadar faktoriyel alicagini girin:7\n",
      "7 'nin  faktoriyeli=5040 dir....\n",
      "Programimizi kullandiginiz icin tesekkurler....\n"
     ]
    }
   ],
   "source": [
    "\n",
    "\n",
    "def factorial():\n",
    "    i=1\n",
    "    fact=1\n",
    "    sayi=int(input(\"lutfen kaca kadar faktoriyel alicagini girin:\"))\n",
    "    while i<=sayi:\n",
    "        if sayi!=0 or sayi!=1:\n",
    "            fact*=i\n",
    "        else:\n",
    "            print(\"sayinin faktoriyeli 1 dir!.....\")\n",
    "            \n",
    "        i+=1\n",
    "    print(\"{} 'nin  faktoriyeli={} dir....\".format(sayi,fact))\n",
    "    print(\"Programimizi kullandiginiz icin tesekkurler....\")\n",
    "factorial()\n",
    "\n",
    "\n",
    "    "
   ]
  },
  {
   "cell_type": "code",
   "execution_count": 2,
   "metadata": {},
   "outputs": [
    {
     "name": "stdout",
     "output_type": "stream",
     "text": [
      "selam....\n"
     ]
    }
   ],
   "source": [
    "def selamla():\n",
    "    print(\"selam....\")\n",
    "selamla()"
   ]
  },
  {
   "cell_type": "code",
   "execution_count": 3,
   "metadata": {},
   "outputs": [
    {
     "data": {
      "text/plain": [
       "function"
      ]
     },
     "execution_count": 3,
     "metadata": {},
     "output_type": "execute_result"
    }
   ],
   "source": [
    "type(selamla)"
   ]
  },
  {
   "cell_type": "code",
   "execution_count": 6,
   "metadata": {},
   "outputs": [
    {
     "name": "stdout",
     "output_type": "stream",
     "text": [
      "(10, 4, 21, 2.33)\n"
     ]
    }
   ],
   "source": [
    "def func(x,y):\n",
    "    return (x+y, x-y, x*y, round(x/y,2))\n",
    " \n",
    "print(func(7,3))"
   ]
  },
  {
   "cell_type": "code",
   "execution_count": 7,
   "metadata": {},
   "outputs": [
    {
     "name": "stdout",
     "output_type": "stream",
     "text": [
      "Help on built-in function round in module builtins:\n",
      "\n",
      "round(...)\n",
      "    round(number[, ndigits]) -> number\n",
      "    \n",
      "    Round a number to a given precision in decimal digits (default 0 digits).\n",
      "    This returns an int when called with one argument, otherwise the\n",
      "    same type as the number. ndigits may be negative.\n",
      "\n"
     ]
    }
   ],
   "source": [
    "help(round)"
   ]
  },
  {
   "cell_type": "code",
   "execution_count": 10,
   "metadata": {},
   "outputs": [
    {
     "name": "stdout",
     "output_type": "stream",
     "text": [
      "lutfen faktoriyeli alinacak sayiyi girin:8\n",
      "8 sayisinin factoriyeli = 40320 dir......\n"
     ]
    }
   ],
   "source": [
    "#for dongusu ile factoriyel hesaplama ....\n",
    "sayi1=None\n",
    "def facto(x):\n",
    "    factor=1\n",
    "    sayi1=int(input(\"lutfen faktoriyeli alinacak sayiyi girin:\"))\n",
    "    if sayi1!=1 or sayi1!=0:\n",
    "        for i in range(1,sayi1+1):\n",
    "            factor*=i\n",
    "        print(\"{} sayisinin factoriyeli = {} dir......\".format(sayi1,factor))\n",
    "    else:\n",
    "        print(\"factoriyel = 1 dir ....\")\n",
    "facto(sayi1)\n"
   ]
  },
  {
   "cell_type": "code",
   "execution_count": 20,
   "metadata": {},
   "outputs": [
    {
     "name": "stdout",
     "output_type": "stream",
     "text": [
      "isminiz : nuri\n"
     ]
    }
   ],
   "source": [
    "def selam(isim):\n",
    "    print(\"isminiz :\",isim)\n",
    "selam(\"nuri\")"
   ]
  },
  {
   "cell_type": "code",
   "execution_count": 23,
   "metadata": {},
   "outputs": [
    {
     "name": "stdout",
     "output_type": "stream",
     "text": [
      "toplamlari: 12\n",
      "toplamlari: 50\n"
     ]
    }
   ],
   "source": [
    "def toplama(a,b,c):\n",
    "    print(\"toplamlari:\",a+b+c)\n",
    "toplama(3,4,5)\n",
    "toplama(2,3,45)"
   ]
  },
  {
   "cell_type": "code",
   "execution_count": null,
   "metadata": {},
   "outputs": [],
   "source": []
  }
 ],
 "metadata": {
  "kernelspec": {
   "display_name": "Python 3",
   "language": "python",
   "name": "python3"
  }
 },
 "nbformat": 4,
 "nbformat_minor": 2
}
