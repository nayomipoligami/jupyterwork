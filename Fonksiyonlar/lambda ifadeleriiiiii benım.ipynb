{
 "cells": [
  {
   "cell_type": "code",
   "execution_count": 1,
   "metadata": {},
   "outputs": [
    {
     "name": "stdout",
     "output_type": "stream",
     "text": [
      "[2, 4, 6, 8, 10]\n"
     ]
    }
   ],
   "source": [
    "liste1=[1,2,3,4,5]\n",
    "liste2=[i*2 for i in liste1]\n",
    "print(liste2)"
   ]
  },
  {
   "cell_type": "code",
   "execution_count": 2,
   "metadata": {},
   "outputs": [
    {
     "name": "stdout",
     "output_type": "stream",
     "text": [
      "6\n"
     ]
    }
   ],
   "source": [
    "def ikiilecarp(x):\n",
    "    return x*2\n",
    "print(ikiilecarp(3))"
   ]
  },
  {
   "cell_type": "code",
   "execution_count": 4,
   "metadata": {},
   "outputs": [
    {
     "name": "stdout",
     "output_type": "stream",
     "text": [
      "4\n"
     ]
    }
   ],
   "source": [
    "#yukarıdakı fonksiyonu lambda ifadesiyle yazalım..\n",
    "ikiylecarp=lambda x: x*2#böyle daha kısa oluyor.....\n",
    "print(ikiylecarp(2))"
   ]
  },
  {
   "cell_type": "code",
   "execution_count": 6,
   "metadata": {},
   "outputs": [
    {
     "name": "stdout",
     "output_type": "stream",
     "text": [
      "10\n"
     ]
    }
   ],
   "source": [
    "def toplama(x,y,z):\n",
    "    return x+y+z\n",
    "print(toplama(2,3,5))\n",
    "    "
   ]
  },
  {
   "cell_type": "code",
   "execution_count": 10,
   "metadata": {},
   "outputs": [
    {
     "name": "stdout",
     "output_type": "stream",
     "text": [
      "10\n"
     ]
    }
   ],
   "source": [
    "#simdi bunu lambda ifadesiyle yazalım...\n",
    "toplama1=lambda x,y,z : x+y+z\n",
    "print(toplama1(2,3,5))"
   ]
  },
  {
   "cell_type": "code",
   "execution_count": 13,
   "metadata": {},
   "outputs": [
    {
     "data": {
      "text/plain": [
       "'amalmargorp nohtyp'"
      ]
     },
     "execution_count": 13,
     "metadata": {},
     "output_type": "execute_result"
    }
   ],
   "source": [
    "def terscevir(s):\n",
    "    return s[::-1]\n",
    "terscevir(\"python programlama\")"
   ]
  },
  {
   "cell_type": "code",
   "execution_count": 17,
   "metadata": {},
   "outputs": [
    {
     "name": "stdout",
     "output_type": "stream",
     "text": [
      "nes yeh\n"
     ]
    }
   ],
   "source": [
    "#birde bunu lambda ile yazalım..\n",
    "ters= lambda s: s[::-1]\n",
    "print(ters(\"hey sen\"))"
   ]
  },
  {
   "cell_type": "code",
   "execution_count": 2,
   "metadata": {},
   "outputs": [
    {
     "name": "stdout",
     "output_type": "stream",
     "text": [
      "True\n",
      "False\n"
     ]
    }
   ],
   "source": [
    "#bir sayinin ciftmi tekmi oldugunu lambda kullanarak bulalım..\n",
    "#ilk lambdasız bulalım sonra lambda lı...\n",
    "\n",
    "def ciftmi_tekmi(x):\n",
    "    return x%2==0\n",
    " \n",
    "print(ciftmi_tekmi(4))\n",
    "#bu fonk sayi cift ise true degilse false döndürüyor.\n",
    "print(ciftmi_tekmi(5))\n"
   ]
  },
  {
   "cell_type": "code",
   "execution_count": 33,
   "metadata": {},
   "outputs": [],
   "source": [
    "#simdi lambda ile yapalım..\n",
    "kontrol= lambda x : x%2==0"
   ]
  },
  {
   "cell_type": "code",
   "execution_count": 34,
   "metadata": {},
   "outputs": [
    {
     "name": "stdout",
     "output_type": "stream",
     "text": [
      "False\n"
     ]
    }
   ],
   "source": [
    "print(kontrol(5))"
   ]
  },
  {
   "cell_type": "code",
   "execution_count": 35,
   "metadata": {},
   "outputs": [
    {
     "name": "stdout",
     "output_type": "stream",
     "text": [
      "True\n"
     ]
    }
   ],
   "source": [
    "print(kontrol(14))"
   ]
  },
  {
   "cell_type": "code",
   "execution_count": 38,
   "metadata": {},
   "outputs": [
    {
     "data": {
      "text/plain": [
       "'\\n\\n== , != gibi operatörler aslında sorgulama işlemi yapar.\\n\\n==   : sağ değer sola eşit mi ?\\n\\n!=   : sağ değer sola eşit değil mi ?\\n\\nbu yüzden :\\n\\nreturn sayı % 2 == 0 \\n\\nkısmında aslında şunu söylemiş oluyoruz : \\n\\nSayının 2 ile modu 0 a eşit ise döndür değilse döndürme\\n\\n'"
      ]
     },
     "execution_count": 38,
     "metadata": {},
     "output_type": "execute_result"
    }
   ],
   "source": [
    "\"\"\"\n",
    "def ciftmi_tekmi(x):\n",
    "    return x%2==0\n",
    " q\n",
    "== , != gibi operatörler aslında sorgulama işlemi yapar.\n",
    "\n",
    "==   : sağ değer sola eşit mi ?\n",
    "\n",
    "!=   : sağ değer sola eşit değil mi ?\n",
    "\n",
    "bu yüzden :\n",
    "\n",
    "return sayı % 2 == 0 \n",
    "\n",
    "kısmında aslında şunu söylemiş oluyoruz : \n",
    "\n",
    "Sayının 2 ile modu 0 a eşit ise döndür değilse döndürme\n",
    "\n",
    "\"\"\"\n"
   ]
  },
  {
   "cell_type": "code",
   "execution_count": 4,
   "metadata": {},
   "outputs": [
    {
     "data": {
      "text/plain": [
       "'tek sayi'"
      ]
     },
     "execution_count": 4,
     "metadata": {},
     "output_type": "execute_result"
    }
   ],
   "source": [
    "def ciftmi_tekmi(x):\n",
    "    if x%2==0:\n",
    "        return \"cift sayi\"\n",
    "    else:\n",
    "        return \"tek sayi\"\n",
    "\n",
    "ciftmi_tekmi(9)\n",
    "\n",
    "    \n",
    " "
   ]
  },
  {
   "cell_type": "code",
   "execution_count": 53,
   "metadata": {},
   "outputs": [
    {
     "name": "stdout",
     "output_type": "stream",
     "text": [
      "160.0\n",
      "deneme: 32\n"
     ]
    }
   ],
   "source": [
    "f = lambda  a, f, ay : a + (a * f * ay)\n",
    "\n",
    "print(f(100,0.05,12))\n",
    "#bu lambda ile yaptıgımız fonksiyonu ,fonksiyon gibi kullanabiliyormuyuz\n",
    "#asagıda bunu denedim cok onemlı kullanıyormusuz...\n",
    "deneme=f(2,3,5)\n",
    "print(\"deneme:\",deneme)\n"
   ]
  },
  {
   "cell_type": "code",
   "execution_count": 1,
   "metadata": {},
   "outputs": [
    {
     "name": "stdout",
     "output_type": "stream",
     "text": [
      "ters cevrilcek metni girin:kaan\n",
      "metnin tersi: naak\n",
      "ters cevrilcek metni girin:kaan\n",
      "n\n",
      "a\n",
      "a\n",
      "k\n",
      "ters cevrilcek metni girin:kaan\n",
      "naak\n",
      "naak\n",
      "naak\n",
      "naak\n"
     ]
    }
   ],
   "source": [
    "def terscevirme():\n",
    "    s=input(\"ters cevrilcek metni girin:\")\n",
    "    c=1\n",
    "    for i in s:\n",
    "        print(\"metnin tersi:\",s[::-1])\n",
    "        c+=1\n",
    "        if(c==2):\n",
    "            break\n",
    "terscevirme()\n",
    "        \n",
    "def tersmetin():\n",
    "        u=input(\"ters cevrilcek metni girin:\")\n",
    "        for i in u[::-1]:\n",
    "            print(i)\n",
    "tersmetin()   \n",
    "\n",
    "\n",
    "\n",
    "def tersmetin2():\n",
    "        x=input(\"ters cevrilcek metni girin:\")\n",
    "        i=0\n",
    "        while i<len(x):\n",
    "            print(x[::-1])\n",
    "            i+=1\n",
    "            \n",
    "tersmetin2() \n"
   ]
  },
  {
   "cell_type": "code",
   "execution_count": 4,
   "metadata": {},
   "outputs": [
    {
     "name": "stdout",
     "output_type": "stream",
     "text": [
      "metin:555555555555555\n",
      "metnin boyutu 15\n"
     ]
    }
   ],
   "source": [
    "#bircok sekilde  metnin tersini bulabiliyoruz eger tek tek elemanlara erisip bulmak istersek7\n",
    "#ve len fonksiyonunu biz bastan kendımız yazmaya calısırsakk\n",
    "def lenfonksiyonu():\n",
    "    sayac=0\n",
    "    t=input(\"metin:\")\n",
    "    for i in t:\n",
    "        sayac+=1\n",
    "    print(\"metnin boyutu\",sayac)\n",
    "lenfonksiyonu()\n"
   ]
  },
  {
   "cell_type": "code",
   "execution_count": null,
   "metadata": {},
   "outputs": [],
   "source": []
  }
 ],
 "metadata": {
  "kernelspec": {
   "display_name": "Python 3",
   "language": "python",
   "name": "python3"
  },
  "language_info": {
   "codemirror_mode": {
    "name": "ipython",
    "version": 3
   },
   "file_extension": ".py",
   "mimetype": "text/x-python",
   "name": "python",
   "nbconvert_exporter": "python",
   "pygments_lexer": "ipython3",
   "version": "3.6.5"
  }
 },
 "nbformat": 4,
 "nbformat_minor": 2
}
