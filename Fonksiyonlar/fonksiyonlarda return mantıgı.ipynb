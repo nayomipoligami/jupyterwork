{
 "cells": [
  {
   "cell_type": "code",
   "execution_count": 2,
   "metadata": {},
   "outputs": [
    {
     "name": "stdout",
     "output_type": "stream",
     "text": [
      "toplam : 10\n"
     ]
    },
    {
     "ename": "TypeError",
     "evalue": "unsupported operand type(s) for *: 'NoneType' and 'int'",
     "output_type": "error",
     "traceback": [
      "\u001b[1;31m---------------------------------------------------------------------------\u001b[0m",
      "\u001b[1;31mTypeError\u001b[0m                                 Traceback (most recent call last)",
      "\u001b[1;32m<ipython-input-2-74e7f3720b2b>\u001b[0m in \u001b[0;36m<module>\u001b[1;34m()\u001b[0m\n\u001b[0;32m      5\u001b[0m     \u001b[1;32mreturn\u001b[0m \u001b[0ma\u001b[0m\u001b[1;33m*\u001b[0m\u001b[1;36m2\u001b[0m\u001b[1;33m\u001b[0m\u001b[0m\n\u001b[0;32m      6\u001b[0m \u001b[0mtoplam\u001b[0m\u001b[1;33m=\u001b[0m\u001b[0mtoplama\u001b[0m\u001b[1;33m(\u001b[0m\u001b[1;36m2\u001b[0m\u001b[1;33m,\u001b[0m\u001b[1;36m3\u001b[0m\u001b[1;33m,\u001b[0m\u001b[1;36m5\u001b[0m\u001b[1;33m)\u001b[0m\u001b[1;33m\u001b[0m\u001b[0m\n\u001b[1;32m----> 7\u001b[1;33m \u001b[0mcarpma\u001b[0m\u001b[1;33m(\u001b[0m\u001b[0mtoplam\u001b[0m\u001b[1;33m)\u001b[0m\u001b[1;33m\u001b[0m\u001b[0m\n\u001b[0m",
      "\u001b[1;32m<ipython-input-2-74e7f3720b2b>\u001b[0m in \u001b[0;36mcarpma\u001b[1;34m(a)\u001b[0m\n\u001b[0;32m      2\u001b[0m     \u001b[0mprint\u001b[0m\u001b[1;33m(\u001b[0m\u001b[1;34m\"toplam :\"\u001b[0m\u001b[1;33m,\u001b[0m\u001b[0ma\u001b[0m\u001b[1;33m+\u001b[0m\u001b[0mb\u001b[0m\u001b[1;33m+\u001b[0m\u001b[0mc\u001b[0m\u001b[1;33m)\u001b[0m\u001b[1;33m\u001b[0m\u001b[0m\n\u001b[0;32m      3\u001b[0m \u001b[1;32mdef\u001b[0m \u001b[0mcarpma\u001b[0m\u001b[1;33m(\u001b[0m\u001b[0ma\u001b[0m\u001b[1;33m)\u001b[0m\u001b[1;33m:\u001b[0m\u001b[1;33m\u001b[0m\u001b[0m\n\u001b[1;32m----> 4\u001b[1;33m     \u001b[0mprint\u001b[0m\u001b[1;33m(\u001b[0m\u001b[1;34m\"carpma:\"\u001b[0m\u001b[1;33m,\u001b[0m\u001b[0ma\u001b[0m\u001b[1;33m*\u001b[0m\u001b[1;36m2\u001b[0m\u001b[1;33m)\u001b[0m\u001b[1;33m\u001b[0m\u001b[0m\n\u001b[0m\u001b[0;32m      5\u001b[0m     \u001b[1;32mreturn\u001b[0m \u001b[0ma\u001b[0m\u001b[1;33m*\u001b[0m\u001b[1;36m2\u001b[0m\u001b[1;33m\u001b[0m\u001b[0m\n\u001b[0;32m      6\u001b[0m \u001b[0mtoplam\u001b[0m\u001b[1;33m=\u001b[0m\u001b[0mtoplama\u001b[0m\u001b[1;33m(\u001b[0m\u001b[1;36m2\u001b[0m\u001b[1;33m,\u001b[0m\u001b[1;36m3\u001b[0m\u001b[1;33m,\u001b[0m\u001b[1;36m5\u001b[0m\u001b[1;33m)\u001b[0m\u001b[1;33m\u001b[0m\u001b[0m\n",
      "\u001b[1;31mTypeError\u001b[0m: unsupported operand type(s) for *: 'NoneType' and 'int'"
     ]
    }
   ],
   "source": [
    "def toplama(a,b,c):\n",
    "    print(\"toplam :\",a+b+c)\n",
    "def carpma(a):\n",
    "    print(\"carpma:\",a*2)\n",
    "    return a*2\n",
    "toplam=toplama(2,3,5)\n",
    "carpma(toplam)\n"
   ]
  },
  {
   "cell_type": "code",
   "execution_count": 4,
   "metadata": {},
   "outputs": [
    {
     "data": {
      "text/plain": [
       "NoneType"
      ]
     },
     "execution_count": 4,
     "metadata": {},
     "output_type": "execute_result"
    }
   ],
   "source": [
    "type(toplam)"
   ]
  },
  {
   "cell_type": "code",
   "execution_count": 1,
   "metadata": {},
   "outputs": [
    {
     "name": "stdout",
     "output_type": "stream",
     "text": [
      "ort: 2.0\n"
     ]
    }
   ],
   "source": [
    "def toplama(a,b,c):\n",
    "    return a+b+c\n",
    "\n",
    "hesap=toplama(1,2,3)\n",
    "ort=hesap/3\n",
    "print(\"ort:\",ort)\n"
   ]
  },
  {
   "cell_type": "code",
   "execution_count": 4,
   "metadata": {},
   "outputs": [
    {
     "name": "stdout",
     "output_type": "stream",
     "text": [
      "deger: 12\n"
     ]
    },
    {
     "data": {
      "text/plain": [
       "int"
      ]
     },
     "execution_count": 4,
     "metadata": {},
     "output_type": "execute_result"
    }
   ],
   "source": [
    "#Bu sefer return kullandıgımız ıcın degeri hafıza tuttuk ve yazdırabildik\n",
    "#hemde type ını da bulabıldık .....\n",
    "def carpma(f,g):\n",
    "    return f*g\n",
    "def yazdırma(e):\n",
    "    print(\"deger:\",e)\n",
    "\n",
    "sonuc=carpma(3,4)\n",
    "yazdırma(sonuc)\n",
    "\n",
    "type(sonuc)"
   ]
  },
  {
   "cell_type": "code",
   "execution_count": 5,
   "metadata": {},
   "outputs": [],
   "source": [
    "def üçleçarp(a):\n",
    "    print(\"1.fonksiyon çalıştı\")\n",
    "    return a*3\n",
    "\n"
   ]
  },
  {
   "cell_type": "code",
   "execution_count": 6,
   "metadata": {},
   "outputs": [],
   "source": [
    "def ikiyletopla(a):\n",
    "    print(\"2.fonksiyon çalıştı\")\n",
    "    return a + 2"
   ]
  },
  {
   "cell_type": "code",
   "execution_count": 7,
   "metadata": {},
   "outputs": [],
   "source": [
    "def dördeböl(a):\n",
    "    print(\"3.fonksiyon çalıştı\")\n",
    "    return a / 4"
   ]
  },
  {
   "cell_type": "code",
   "execution_count": 13,
   "metadata": {},
   "outputs": [
    {
     "name": "stdout",
     "output_type": "stream",
     "text": [
      "1.fonksiyon çalıştı\n",
      "2.fonksiyon çalıştı\n",
      "3.fonksiyon çalıştı\n",
      "4.25\n"
     ]
    }
   ],
   "source": [
    "print(dördeböl(ikiyletopla(üçleçarp(5))))"
   ]
  },
  {
   "cell_type": "code",
   "execution_count": 3,
   "metadata": {},
   "outputs": [
    {
     "name": "stdout",
     "output_type": "stream",
     "text": [
      "burasi calistirilcak....\n",
      "burasi calistirilcak....\n",
      "10\n"
     ]
    }
   ],
   "source": [
    "#return fonksiyonu sonlandıran bir ifade yani return den \n",
    "#sonrakı hıcbır ıslem calısmaz.\n",
    "\n",
    "def toplama(a,b,c):\n",
    "    print(\"burasi calistirilcak....\")\n",
    "    return a + b + c\n",
    "    print(\"Toplama fonksiyonu\") # Çalıştırılmadı.\n",
    "toplama(2,3,5)\n",
    "toplam=toplama(2,3,5)\n",
    "print(toplam)"
   ]
  },
  {
   "cell_type": "code",
   "execution_count": 22,
   "metadata": {
    "scrolled": true
   },
   "outputs": [
    {
     "name": "stdout",
     "output_type": "stream",
     "text": [
      "izmir değeri yazıldı\n",
      "bursa değeri yazıldı\n",
      "ankara değeri yazıldı\n"
     ]
    },
    {
     "data": {
      "text/plain": [
       "366"
      ]
     },
     "execution_count": 22,
     "metadata": {},
     "output_type": "execute_result"
    }
   ],
   "source": [
    "def izmir(a,b,c):\n",
    "    print(\"izmir değeri yazıldı\")\n",
    "    return(a+b+c)\n",
    " \n",
    "def bursa(a,b,c):\n",
    "    print(\"bursa değeri yazıldı\")\n",
    "    return(a*b*c)\n",
    " \n",
    "def ankara(a,b,c):\n",
    "    print(\"ankara değeri yazıldı\")\n",
    "    return(a+b+c)\n",
    "                                        \n",
    " \n",
    " \n",
    "ankara(izmir(1,2,3),bursa(3,4,5),300)"
   ]
  },
  {
   "cell_type": "code",
   "execution_count": 23,
   "metadata": {},
   "outputs": [
    {
     "data": {
      "text/plain": [
       "11"
      ]
     },
     "execution_count": 23,
     "metadata": {},
     "output_type": "execute_result"
    }
   ],
   "source": [
    "def topla(x,y):\n",
    "    return x + y\n",
    "\n",
    " \n",
    "#ilk çağırma\n",
    "topla(4,2)\n",
    " \n",
    "#ikinci çağırma\n",
    "topla(7,4)   "
   ]
  },
  {
   "cell_type": "code",
   "execution_count": 25,
   "metadata": {},
   "outputs": [
    {
     "name": "stdout",
     "output_type": "stream",
     "text": [
      "<function y at 0x0000026DA6CBFE18>\n"
     ]
    }
   ],
   "source": [
    "#fonksiyonun ram de saklanan konumu\n",
    "def y():\n",
    "    print(\"deneme\")\n",
    "\n",
    "print(y)"
   ]
  },
  {
   "cell_type": "code",
   "execution_count": 28,
   "metadata": {},
   "outputs": [
    {
     "name": "stdout",
     "output_type": "stream",
     "text": [
      "please enter value:6\n",
      "factorial  = 720\n"
     ]
    }
   ],
   "source": [
    "def fact():\n",
    "    fac=1\n",
    "    i=1\n",
    "    sayi=int(input(\"please enter value:\"))\n",
    "    while i<sayi+1:\n",
    "        fac*=i\n",
    "        i+=1\n",
    "    return fac\n",
    "y=fact()\n",
    "print(\"factorial  =\",y)"
   ]
  },
  {
   "cell_type": "code",
   "execution_count": 6,
   "metadata": {},
   "outputs": [
    {
     "name": "stdout",
     "output_type": "stream",
     "text": [
      "toplam : 10\n",
      "carpma: 20\n"
     ]
    }
   ],
   "source": [
    "#tekrar burdan baslıyor....\n",
    "def toplama(a,b,c):\n",
    "    print(\"toplam :\",a+b+c)\n",
    "    return toplam\n",
    "def carpma(a):\n",
    "    print(\"carpma:\",a*2)\n",
    "toplam=toplama(2,3,5)\n",
    "\n",
    "carpma(toplam)\n"
   ]
  },
  {
   "cell_type": "code",
   "execution_count": 7,
   "metadata": {},
   "outputs": [
    {
     "data": {
      "text/plain": [
       "(2, 3, 4, 5)"
      ]
     },
     "execution_count": 7,
     "metadata": {},
     "output_type": "execute_result"
    }
   ],
   "source": [
    "def func(a,b,c,d):\n",
    "    return a,b,c,d\n",
    "func(2,3,4,5)"
   ]
  },
  {
   "cell_type": "code",
   "execution_count": 3,
   "metadata": {},
   "outputs": [
    {
     "name": "stdout",
     "output_type": "stream",
     "text": [
      "izmir değeri yazıldı\n",
      "bursa değeri yazıldı\n",
      "ankara değeri yazıldı\n"
     ]
    },
    {
     "data": {
      "text/plain": [
       "314"
      ]
     },
     "execution_count": 3,
     "metadata": {},
     "output_type": "execute_result"
    }
   ],
   "source": [
    "def izmir(a,b,c):\n",
    "    print(\"izmir değeri yazıldı\")\n",
    "    return(a+b+c)\n",
    " \n",
    "def bursa(a,b,c):\n",
    "    print(\"bursa değeri yazıldı\")\n",
    "    return(a*b*c)\n",
    " \n",
    "def ankara(a,b,c):\n",
    "    print(\"ankara değeri yazıldı\")\n",
    "    return(a+b+c)\n",
    "ankara(izmir(2,3,3),bursa(1,2,3),300)"
   ]
  },
  {
   "cell_type": "code",
   "execution_count": 7,
   "metadata": {},
   "outputs": [
    {
     "name": "stdout",
     "output_type": "stream",
     "text": [
      "factoriali alincak sayi10\n"
     ]
    },
    {
     "data": {
      "text/plain": [
       "3628800"
      ]
     },
     "execution_count": 7,
     "metadata": {},
     "output_type": "execute_result"
    }
   ],
   "source": [
    "def factorial():\n",
    "    factori=1\n",
    "    i=1\n",
    "    sayi=int(input(\"factoriali alincak sayi:\"))\n",
    "    while i<sayi+1:\n",
    "        factori*=i\n",
    "        i+=1\n",
    "    return factori\n",
    "factorial()"
   ]
  },
  {
   "cell_type": "code",
   "execution_count": 7,
   "metadata": {},
   "outputs": [
    {
     "name": "stdout",
     "output_type": "stream",
     "text": [
      "a:52\n",
      "b:2\n",
      "c:3\n",
      "57\n"
     ]
    },
    {
     "data": {
      "text/plain": [
       "114"
      ]
     },
     "execution_count": 7,
     "metadata": {},
     "output_type": "execute_result"
    }
   ],
   "source": [
    "\n",
    "def toplamaislemi():\n",
    "    a=int(input(\"a:\"))\n",
    "    b=int(input(\"b:\"))\n",
    "    c=int(input(\"c:\"))\n",
    "    toplamasonuc=a+b+c\n",
    "    return toplamasonuc\n",
    "\n",
    "def carpma(a):    \n",
    "    return a*2\n",
    "\n",
    "toplamasonuc=toplamaislemi()\n",
    "print(toplamasonuc)\n",
    "carpma(toplamasonuc)\n",
    "\n"
   ]
  },
  {
   "cell_type": "code",
   "execution_count": null,
   "metadata": {},
   "outputs": [],
   "source": []
  },
  {
   "cell_type": "code",
   "execution_count": null,
   "metadata": {},
   "outputs": [],
   "source": []
  }
 ],
 "metadata": {
  "kernelspec": {
   "display_name": "Python 3",
   "language": "python",
   "name": "python3"
  },
  "language_info": {
   "codemirror_mode": {
    "name": "ipython",
    "version": 3
   },
   "file_extension": ".py",
   "mimetype": "text/x-python",
   "name": "python",
   "nbconvert_exporter": "python",
   "pygments_lexer": "ipython3",
   "version": "3.6.5"
  }
 },
 "nbformat": 4,
 "nbformat_minor": 2
}
